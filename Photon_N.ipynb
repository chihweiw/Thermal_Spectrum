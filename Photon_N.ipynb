{
 "cells": [
  {
   "cell_type": "markdown",
   "id": "ba47344f-16f4-4781-8e44-7d53bfea77f1",
   "metadata": {
    "jp-MarkdownHeadingCollapsed": true
   },
   "source": [
    "## Initialization"
   ]
  },
  {
   "cell_type": "code",
   "execution_count": 1,
   "id": "860ab133-ffbf-4cf9-9f27-af4f6a765bc3",
   "metadata": {},
   "outputs": [],
   "source": [
    "import numpy as np\n",
    "from matplotlib import pyplot as plt\n",
    "from scipy import optimize\n",
    "import time\n",
    "from IPython.display import Image\n",
    "from tqdm.notebook import tqdm\n",
    "plt.rcParams.update({'font.size': 15})"
   ]
  },
  {
   "cell_type": "markdown",
   "id": "c867fee6-63af-4519-a406-5af8d43e6813",
   "metadata": {},
   "source": [
    "Define some physical constants."
   ]
  },
  {
   "cell_type": "code",
   "execution_count": 2,
   "id": "3d287f60-c641-40a5-8654-9e18498f7999",
   "metadata": {},
   "outputs": [],
   "source": [
    "mu0 = 4e-7*np.pi\n",
    "c0 = 299792458\n",
    "eps0 = 1/(c0**2*mu0)\n",
    "hbar = 1.05457182e-34\n",
    "kb = 1.380649e-23"
   ]
  },
  {
   "cell_type": "markdown",
   "id": "2befa66f-5897-4ab2-a5bb-fa87c893215d",
   "metadata": {},
   "source": [
    "Define some parameters related to the model."
   ]
  },
  {
   "cell_type": "code",
   "execution_count": 3,
   "id": "d233c106-694f-498b-aaab-ead547f449db",
   "metadata": {},
   "outputs": [],
   "source": [
    "#$\\mu$ is dipole matrix element. This is set to e*1.3nm in the paper\n",
    "mu = 1.60217663e-19*1.3e-9\n",
    "#Lc is the total length of the 1d photonic lattice\n",
    "Lc = 1.2e-4\n",
    "#Lr is the total length of the system including the vaccum part.\n",
    "Lr = 0.012/10\n",
    "#Np is the number of periods of the photonic lattices.\n",
    "Np = 12\n",
    "#lp is the length of one period.\n",
    "lp = Lc/Np"
   ]
  },
  {
   "cell_type": "markdown",
   "id": "9560cec3-8fef-424a-852e-a68fa91b1147",
   "metadata": {},
   "source": [
    "At first, we define some constants and parameters according to the paper. We will use the normalized time scale: $10^{-12}s = 1/\\gamma$."
   ]
  },
  {
   "cell_type": "code",
   "execution_count": 4,
   "id": "d40ddeb7-d6f0-4ce4-8d62-537e3bb1b4d6",
   "metadata": {},
   "outputs": [],
   "source": [
    "gamma = 1e12\n",
    "gamma_normal = 1\n",
    "gamma_c = 1e9/gamma\n",
    "gamma_r = 1e13/gamma\n",
    "Lambda_0 = 1e10/gamma\n",
    "omega_0 = 1.6e14/gamma\n",
    "N = 601\n",
    "Temp_p = 400\n",
    "Temp = 400\n",
    "A = 1e-16\n",
    "D = 2*mu**2/(hbar*eps0*A*Lc*gamma)\n",
    "kb_normal = kb/(gamma**2)\n",
    "hbar_normal = hbar/gamma"
   ]
  },
  {
   "cell_type": "markdown",
   "id": "190e24c2-e262-434c-a1ee-377525ebb434",
   "metadata": {},
   "source": [
    "$f_a$ and $f_b$ are two functions related to the thermal relaxation."
   ]
  },
  {
   "cell_type": "code",
   "execution_count": 5,
   "id": "6fb57675-2775-4a6d-ba2f-d1e7543b48fb",
   "metadata": {},
   "outputs": [],
   "source": [
    "def fa(omega_n,T):\n",
    "    return 1/(1+np.exp(-hbar_normal*omega_n/(kb_normal*T)))\n",
    "def fb(omega_n,T):\n",
    "    return np.exp(-hbar_normal*omega_n/(kb_normal*T))/(1+np.exp(-hbar_normal*omega_n/(kb_normal*T)))             "
   ]
  },
  {
   "cell_type": "markdown",
   "id": "7d09b91a-5cf6-41dc-8ccb-955a889a75ad",
   "metadata": {},
   "source": [
    "Here we define a function that will give $\\frac{d N}{d t}$ after input the initial conditions of $N_a$, $N_b$, $N_k$, eigen modes and temperatures."
   ]
  },
  {
   "cell_type": "code",
   "execution_count": 6,
   "id": "9b76abc9-9809-4365-bf71-f8cf21b1db23",
   "metadata": {},
   "outputs": [],
   "source": [
    "def Ndtv3(Nmati, modes, LOmega, T, Tp, nw, nn=1):\n",
    "    range_a = range(nn); range_ok = range(nn, nn+nw)\n",
    "    Kernel = np.zeros((nn,nw))\n",
    "    Ndti = np.zeros(nn+nw)\n",
    "    for n in range_a:\n",
    "        for k in range_ok:\n",
    "            Kernel[n,k-nn] = ((2*Nmati[n] - N)*Nmati[k] + Nmati[n])*LOmega[n,k-nn]\n",
    "    Kernel_sn = np.sum(Kernel, axis=0)\n",
    "    Kernel_sk = np.sum(Kernel, axis=1)\n",
    "    for n in range_a:\n",
    "        Lambda_n = Lambda_0*np.exp(hbar_normal*(omega_0-modes[n])/(kb_normal*Tp))\n",
    "        Ndti[n] =  -D*Kernel_sk[n] + Lambda_n*(N-Nmati[n]) - gamma_r*(Nmati[n] - N*fb(modes[n],T))\n",
    "    for k in range_ok:\n",
    "        Ndti[k] = D*Kernel_sn[k-nn] - gamma_c*Nmati[k]\n",
    "    return Ndti "
   ]
  },
  {
   "cell_type": "markdown",
   "id": "13086656-7bef-4540-accc-84094c0c942c",
   "metadata": {
    "jp-MarkdownHeadingCollapsed": true
   },
   "source": [
    "## Load the eigemode data and prepare $\\omega_n$ distribution"
   ]
  },
  {
   "cell_type": "code",
   "execution_count": 7,
   "id": "ac588dee-ef38-4dcf-9c49-1a814adb3967",
   "metadata": {},
   "outputs": [],
   "source": [
    "Tp=0.4"
   ]
  },
  {
   "cell_type": "code",
   "execution_count": 8,
   "id": "0625a322-2995-49c8-8680-011164441332",
   "metadata": {},
   "outputs": [
    {
     "name": "stdout",
     "output_type": "stream",
     "text": [
      "load Tp = 0.4 data\n"
     ]
    },
    {
     "data": {
      "text/plain": [
       "['ks', 'G_in', 'G_out', 'G_out_ep', 'emode_int']"
      ]
     },
     "execution_count": 8,
     "metadata": {},
     "output_type": "execute_result"
    }
   ],
   "source": [
    "if Tp == 1:\n",
    "    emodes = np.load(\"Emodes_0_6pi_Tp1_v4.npz\")\n",
    "    print('load Tp = 1 data')\n",
    "elif Tp == 0.1:\n",
    "    emodes = np.load(\"Emodes_0_6pi_Tp01_v4.npz\")\n",
    "    print('load Tp = 0.1 data')\n",
    "elif Tp == 0.4:\n",
    "    emodes = np.load(\"Emodes_0_6pi_Tp04_v4.npz\")\n",
    "    print('load Tp = 0.4 data')\n",
    "elif Tp == 0.01:\n",
    "    emodes = np.load(\"Emodes_0_6pi_Tp001_v4.npz\")\n",
    "    print('load Tp = 0.01 data')\n",
    "else:\n",
    "    emodes = np.load(\"Emodes_0_6pi_miscs.npz\")\n",
    "    print('load Tp = miscs data')\n",
    "emodes.files"
   ]
  },
  {
   "cell_type": "code",
   "execution_count": 9,
   "id": "85ed9b04-640e-401e-a90c-1a5a5ee1452f",
   "metadata": {},
   "outputs": [],
   "source": [
    "ks = emodes[\"ks\"]\n",
    "G_in = emodes[\"G_in\"]\n",
    "G_out = emodes[\"G_out\"]\n",
    "G_out_ep = emodes[\"G_out_ep\"]\n",
    "Omega_k = ks/lp*c0/gamma"
   ]
  },
  {
   "cell_type": "markdown",
   "id": "16966094-3451-472d-be56-54ecbb5c7e7c",
   "metadata": {},
   "source": [
    "Here we assign the values of $\\omega_n$ and the initial conditions of $N_a$ and $N_b$."
   ]
  },
  {
   "cell_type": "code",
   "execution_count": 10,
   "id": "39139305-b624-4f80-a115-3c0a07ba5750",
   "metadata": {},
   "outputs": [],
   "source": [
    "nn = 1000\n",
    "omega_n = np.linspace(0.1,5.2e14,nn)/gamma\n",
    "nw = len(Omega_k)\n",
    "Nbni = np.zeros(nn)\n",
    "Nki = np.zeros(nw)"
   ]
  },
  {
   "cell_type": "markdown",
   "id": "a6e4e959-efa2-46f3-97d0-b8bb5172df5c",
   "metadata": {},
   "source": [
    "To use Ndt function, we join the arrays of $N_a$, $N_b$ and $N_k$ and the arrays of $\\omega_n$, $\\Omega_k$ and G_in ($\\Gamma_k$)"
   ]
  },
  {
   "cell_type": "code",
   "execution_count": 11,
   "id": "d119b99b-d0b7-491f-9544-ac5291599bf3",
   "metadata": {},
   "outputs": [],
   "source": [
    "Ni = np.hstack((Nbni, Nki))\n",
    "modes = np.hstack((omega_n, Omega_k, G_in)) "
   ]
  },
  {
   "cell_type": "markdown",
   "id": "a10437e7-b4f6-40d3-aceb-d657b36212a7",
   "metadata": {},
   "source": [
    "To compute $\\frac{dN}{dt}$ more efficiently, we compute $\\Omega_k\\Gamma_k L(\\omega_n - \\Omega_k)$ first and input the result to 'Ndtv3' function."
   ]
  },
  {
   "cell_type": "code",
   "execution_count": 12,
   "id": "8b8bdf0a-37aa-456a-a674-2ad40ca8e23b",
   "metadata": {},
   "outputs": [],
   "source": [
    "LOmega=[]\n",
    "for omega in omega_n:\n",
    "    LOmega.append(1/(1+((omega*np.ones(len(Omega_k)) - Omega_k)/gamma_normal)**2)*Omega_k*G_in)\n",
    "LOmega = np.array(LOmega)\n",
    "LOmegaT = np.transpose(LOmega)"
   ]
  },
  {
   "cell_type": "markdown",
   "id": "737a2549-5897-4902-9cb3-b5d35f2d96e0",
   "metadata": {
    "jp-MarkdownHeadingCollapsed": true
   },
   "source": [
    "## Solve equations of photon numbers "
   ]
  },
  {
   "cell_type": "markdown",
   "id": "fc456c26-35d1-4376-bb23-5284e420ba1f",
   "metadata": {
    "jp-MarkdownHeadingCollapsed": true
   },
   "source": [
    "### Use RK45 method"
   ]
  },
  {
   "cell_type": "markdown",
   "id": "6093cee7-dc54-45d5-947d-d9a90e731d94",
   "metadata": {},
   "source": [
    "Use scipy's RK45 module to compute $N(t)$"
   ]
  },
  {
   "cell_type": "code",
   "execution_count": 44,
   "id": "0ae51ba4-a937-4bf8-95d0-6bafa2e86fa9",
   "metadata": {},
   "outputs": [
    {
     "name": "stdout",
     "output_type": "stream",
     "text": [
      "The time is: 2.022972477735816\n",
      "The time is: 4.449754101097309\n",
      "The time is: 6.867151930002024\n",
      "The time is: 9.303668736034297\n",
      "\n",
      " The time used: 153.93709230422974\n"
     ]
    }
   ],
   "source": [
    "nsol = integrate.RK45(lambda t, ni: Ndtv3(ni, modes, LOmega, Temp, Temp_p, nw=nw, nn=nn), \n",
    "                      t0=0, y0=Ni, t_bound = 10)\n",
    "start_time = time.time()\n",
    "t_values = []\n",
    "y_values = []\n",
    "i = 0\n",
    "while nsol.status != 'finished':\n",
    "    # get solution step state\n",
    "    nsol.step()\n",
    "    i += 1\n",
    "    if (i%20) == 0:\n",
    "        t_values.append(nsol.t)\n",
    "        y_values.append(nsol.y)\n",
    "        print(f\"The time is: {nsol.t}\")\n",
    "t_values.append(nsol.t)\n",
    "y_values.append(nsol.y)\n",
    "y_values = np.array(y_values)\n",
    "Nb = y_values[...,:nn]\n",
    "Nk = y_values[...,nn:]\n",
    "end_time = time.time()\n",
    "print(f'\\n The time used: {end_time-start_time}')"
   ]
  },
  {
   "cell_type": "code",
   "execution_count": 66,
   "id": "155fa651-e95e-42c6-aa71-3fc110758938",
   "metadata": {},
   "outputs": [
    {
     "data": {
      "image/png": "[encoded data removed]",
      "text/plain": [
       "<Figure size 432x288 with 1 Axes>"
      ]
     },
     "metadata": {
      "needs_background": "light"
     },
     "output_type": "display_data"
    }
   ],
   "source": [
    "i = 1\n",
    "tl = np.linspace(0,5e-13,len(Na))\n",
    "plt.xlabel(\"time(s)\")\n",
    "plt.plot(t_values,Na[...,i], label=\"ground_state\")\n",
    "plt.plot(t_values,Nb[...,i], label=\"excited_state\")\n",
    "plt.legend()\n",
    "plt.savefig(\"Na_Nb_wspread.png\")"
   ]
  },
  {
   "cell_type": "code",
   "execution_count": 217,
   "id": "07ad889b-fa91-4871-b4e6-6e988f14e45e",
   "metadata": {},
   "outputs": [
    {
     "data": {
      "image/png": "[encoded data removed]",
      "text/plain": [
       "<Figure size 432x288 with 1 Axes>"
      ]
     },
     "metadata": {
      "needs_background": "light"
     },
     "output_type": "display_data"
    }
   ],
   "source": [
    "plt.xlabel(\"$\\omega$\")\n",
    "plt.plot(Omega_k,Nk[-1],'b.', label=\"photon number\")\n",
    "plt.legend()\n",
    "plt.savefig(\"Nk_Tp1_n40_ser.png\")"
   ]
  },
  {
   "cell_type": "markdown",
   "id": "00e31a97-e4a8-4db3-8c80-2335c1a253a6",
   "metadata": {},
   "source": [
    "Save data to the files"
   ]
  },
  {
   "cell_type": "code",
   "execution_count": 223,
   "id": "4d15e6ce-500b-46e8-9ef4-938bac021078",
   "metadata": {},
   "outputs": [
    {
     "name": "stdout",
     "output_type": "stream",
     "text": [
      "save Tp = 0.01 photon number data\n"
     ]
    }
   ],
   "source": [
    "if Tp == 1:\n",
    "    np.savez_compressed(\"Photon_n_0_6pi_Tp1_n50_cut1e-4\", Nat = Na, Nbt = Nb, Nkt = Nk)\n",
    "    print('save Tp = 1 photon number data')\n",
    "elif Tp == 0.1:\n",
    "    np.savez_compressed(\"Photon_n_0_6pi_Tp01_n50_cut1e-4\", Nat = Na, Nbt = Nb, Nkt = Nk)\n",
    "    print('save Tp = 0.1 photon number data')\n",
    "elif Tp == 0.4:\n",
    "    np.savez_compressed(\"Photon_n_0_6pi_Tp04_n50_cut1e-4\", Nat = Na, Nbt = Nb, Nkt = Nk)\n",
    "    print('save Tp = 0.4 photon number data')\n",
    "elif Tp == 0.01:\n",
    "    np.savez_compressed(\"Photon_n_0_6pi_Tp001_n50_cut1e-4\", Nat = Na, Nbt = Nb, Nkt = Nk)\n",
    "    print('save Tp = 0.01 photon number data')\n",
    "else:\n",
    "    np.savez_compressed(\"Photon_n_0_6pi_miscs_cut1e-4\", Nat = Na, Nbt = Nb, Nkt = Nk)\n",
    "    print('save Tp = misc photon number data')"
   ]
  },
  {
   "cell_type": "markdown",
   "id": "8c3f1de8-6bef-46bf-aca1-f214254cc58d",
   "metadata": {
    "jp-MarkdownHeadingCollapsed": true
   },
   "source": [
    "### Use Recrusive Method (only converge for passive cases or active cases with $\\gamma_c \\gtrapprox 10^{12}$)"
   ]
  },
  {
   "cell_type": "markdown",
   "id": "45354e76-3e3d-43d8-ab74-4a93614f0578",
   "metadata": {},
   "source": [
    "Define the transpose of LOmega."
   ]
  },
  {
   "cell_type": "code",
   "execution_count": 13,
   "id": "8aa70b8a-76a6-481b-a96e-de8849cc4446",
   "metadata": {},
   "outputs": [],
   "source": [
    "LOmegaT = np.transpose(LOmega)"
   ]
  },
  {
   "cell_type": "markdown",
   "id": "173b64ad-7fe9-4ba9-9960-970a835222f9",
   "metadata": {},
   "source": [
    "Define several constant functions and arrays for computing $\\frac{dN}{dt}$ and the recursive method."
   ]
  },
  {
   "cell_type": "code",
   "execution_count": 14,
   "id": "3452dd78-19a1-47a3-974d-f8fb9e1cbafe",
   "metadata": {},
   "outputs": [],
   "source": [
    "fbn = fb(omega_n,Temp)\n",
    "fan = fa(omega_n,Temp)\n",
    "Ln = Lambda_0*np.exp(hbar_normal*(omega_0*np.ones(nn)-omega_n)/(kb_normal*Temp_p))"
   ]
  },
  {
   "cell_type": "code",
   "execution_count": 15,
   "id": "21f57518-d2fa-4263-bdbe-5a69cdb0f847",
   "metadata": {},
   "outputs": [],
   "source": [
    "def A2_gen(gamma_r, nn, nw, Nb_f = True):\n",
    "    if Nb_f:\n",
    "        sign = 1.0\n",
    "    else:\n",
    "        sign = -1.0\n",
    "    A2_00 = np.eye(nn, dtype=np.double)*(-D*np.sum(LOmega,axis=-1) - gamma_r*np.ones(nn) - Ln)\n",
    "    A2_11 = np.eye(nw, dtype=np.double)*(-N*sign*D*np.sum(LOmega,axis=0) - gamma_c*np.ones(nw))\n",
    "    A2_01 = N*D*LOmega\n",
    "    LOmegaT = np.transpose(LOmega)\n",
    "    A2_10 = sign*D*LOmegaT\n",
    "    A2 = np.vstack([np.hstack([A2_00, A2_01]), np.hstack([A2_10, A2_11])])\n",
    "    return A2"
   ]
  },
  {
   "cell_type": "code",
   "execution_count": 16,
   "id": "8da059cb-bd89-4b6e-b3d2-4a079ea8db55",
   "metadata": {},
   "outputs": [],
   "source": [
    "def B_gen(gamma_r, nw, Nb_f = True):\n",
    "    if Nb_f:\n",
    "        B = np.append(- N*Ln - gamma_r*N*fbn, np.zeros(nw))\n",
    "    else:\n",
    "        B = np.append(-N*D*np.sum(LOmega,axis=-1)- gamma_r*N*fan, -N*D*np.sum(LOmega,axis=0))\n",
    "    return B"
   ]
  },
  {
   "cell_type": "code",
   "execution_count": 17,
   "id": "dd71321a-0735-4cfd-b08a-3c12cd70188c",
   "metadata": {},
   "outputs": [],
   "source": [
    "A1_00 = np.zeros((nn,nn))\n",
    "A1_11 = np.zeros((nw,nw))"
   ]
  },
  {
   "cell_type": "markdown",
   "id": "ecff8127-2774-45ab-b330-1c4991b153eb",
   "metadata": {},
   "source": [
    "Define a function to compute $\\frac{dN}{dt}$ in order to verify the derivative."
   ]
  },
  {
   "cell_type": "code",
   "execution_count": 18,
   "id": "0573c696-b1c9-422a-8582-5eb3b7681737",
   "metadata": {},
   "outputs": [],
   "source": [
    "def Nbk_dt(N_ini, A2, B, Nb_f = True):\n",
    "    if Nb_f:\n",
    "        sign = 1.0\n",
    "    else:\n",
    "        sign = -1.0\n",
    "    A1_01 = -2*D*LOmega*N_ini[:nn,None]\n",
    "    A1_10 = 2*sign*D*LOmegaT*N_ini[nn:,None]\n",
    "    A1 = np.vstack([np.hstack([A1_00, A1_01]), np.hstack([A1_10, A1_11])])\n",
    "    A = A1 + A2\n",
    "    return (A @ N_ini) - B"
   ]
  },
  {
   "cell_type": "markdown",
   "id": "d30e4611-a412-4277-96ea-08efb62fbaa0",
   "metadata": {},
   "source": [
    "Compute some constant parts for the recursive method."
   ]
  },
  {
   "cell_type": "code",
   "execution_count": 19,
   "id": "d5321ada-0c46-440f-93c5-d8caae76083b",
   "metadata": {},
   "outputs": [],
   "source": [
    "def b2_array(gamma_r, nn, nw, Nb_f = True):\n",
    "    if Nb_f:\n",
    "        b21 = gamma_r*N*fbn + Ln*N        \n",
    "    else:\n",
    "        b21 = gamma_r*N*fan + N*D*np.sum(LOmega,axis=-1)\n",
    "    b20 = D*np.sum(LOmega,axis=-1) + gamma_r*np.ones(nn) + Ln\n",
    "    k20 = N*D*np.sum(LOmega,axis=0) + gamma_c*np.ones(nw)\n",
    "    return b20, b21, k20"
   ]
  },
  {
   "cell_type": "markdown",
   "id": "a1489d43-1669-401f-a5db-b9466fa27b37",
   "metadata": {},
   "source": [
    "Use the recursive method. Start from the initial guess of $N_k$, using the equations to compute $N_b$. And, then using the result of $N_b$ to compute $N_k$ until the maximum absolute value of $\\frac{dN}{dt}$ is smaller than the value defined by 'tol'."
   ]
  },
  {
   "cell_type": "code",
   "execution_count": 20,
   "id": "1177fbdd-7604-4e33-9a58-dfcc1fb45da5",
   "metadata": {},
   "outputs": [],
   "source": [
    "def N_rec_alt(Ni, nn, nw, b20, b21, k20, tol=1e-6, Nb_f = True):\n",
    "    Nabn = Ni[:nn]\n",
    "    Nk = Ni[nn:]\n",
    "    tol_reached = False\n",
    "    i = 0\n",
    "    while (not tol_reached and i <= 10000):\n",
    "        ksum = np.sum(LOmegaT*Nk[:,None],axis=0) \n",
    "        b0 = 2*D*ksum + b20\n",
    "        b1 = N*D*ksum + b21\n",
    "        Nabn = np.maximum(b1/b0, np.zeros(nn))\n",
    "        Nabn = np.minimum(Nabn, np.ones(nn)*N)\n",
    "        if Nb_f:\n",
    "            bsum = np.sum(LOmega*Nabn[:,None],axis=0)\n",
    "            k0 = -2*D*bsum + k20\n",
    "            k1 = D*bsum\n",
    "        else:\n",
    "            asum = np.sum(LOmega*(N-Nabn[:,None]),axis=0)\n",
    "            k0 = -2*D*asum + k20\n",
    "            k1 = D*asum\n",
    "        Nk = np.maximum(k1/k0, np.zeros(nw))\n",
    "        i += 1\n",
    "        if (i%100) == 0:\n",
    "            Ni = np.hstack((Nabn,Nk))\n",
    "            maxndt = np.max(np.abs(Nbk_dt(Ni, A2, B)))\n",
    "            if maxndt < tol:\n",
    "                tol_reached = True\n",
    "            else:\n",
    "                print(f\"maximum value of dN/dt: {maxndt:.3e}\")\n",
    "    return np.hstack((Nabn,Nk))"
   ]
  },
  {
   "cell_type": "code",
   "execution_count": 21,
   "id": "d4116e8b-3fd8-4208-8792-291fa88ca8b2",
   "metadata": {},
   "outputs": [
    {
     "name": "stdout",
     "output_type": "stream",
     "text": [
      "maximum value of dN/dt: 3.426e-02\n",
      "maximum value of dN/dt: 7.423e-04\n",
      "maximum value of dN/dt: 1.532e-05\n",
      "maximum value of dN/dt: 3.148e-07\n",
      "maximum value of dN/dt: 6.465e-09\n",
      "32.21127367019653\n",
      "gamma_r = 1.00e+10\n",
      "gamma_c = 1.00e+13\n"
     ]
    }
   ],
   "source": [
    "gamma_r = 1e10/gamma\n",
    "gamma_c = 1e13/gamma\n",
    "A2 = A2_gen(gamma_r,nn,nw)\n",
    "B = B_gen(gamma_r,nw)\n",
    "b20, b21, k20 = b2_array(gamma_r,nn,nw)\n",
    "Ni = np.zeros(nn+nw)\n",
    "Ni2 = np.hstack((np.ones(nn)*N,np.ones(nw)))\n",
    "start_time = time.time()\n",
    "Nsol = N_rec_alt(Ni, nn=nn, nw=nw, b20=b20, b21=b21, k20=k20, tol=1e-9)\n",
    "print(time.time() - start_time)\n",
    "print(f'gamma_r = {gamma_r*gamma:.2e}')\n",
    "print(f'gamma_c = {gamma_c*gamma:.2e}')"
   ]
  },
  {
   "cell_type": "code",
   "execution_count": 22,
   "id": "1b429262-fdfb-419d-803a-3b2d7f67783b",
   "metadata": {},
   "outputs": [
    {
     "data": {
      "text/plain": [
       "1.3274315674438597e-10"
      ]
     },
     "execution_count": 22,
     "metadata": {},
     "output_type": "execute_result"
    }
   ],
   "source": [
    "dndt = Ndtv3(Nsol, modes, LOmega, Temp, Temp_p, nw=nw, nn=nn)\n",
    "np.max(np.abs(dndt))"
   ]
  },
  {
   "cell_type": "code",
   "execution_count": 23,
   "id": "57f90d09-a8e5-4eb3-9347-6c53dd181402",
   "metadata": {},
   "outputs": [],
   "source": [
    "Nb = Nsol[:nn]\n",
    "Nk = Nsol[nn:]\n",
    "Na = N - Nb"
   ]
  },
  {
   "cell_type": "code",
   "execution_count": 24,
   "id": "5027d418-932d-4fcb-9759-3bfcbe472975",
   "metadata": {},
   "outputs": [
    {
     "data": {
      "text/plain": [
       "[<matplotlib.lines.Line2D at 0x2332e615c30>]"
      ]
     },
     "execution_count": 24,
     "metadata": {},
     "output_type": "execute_result"
    },
    {
     "data": {
      "image/png": "[encoded data removed]",
      "text/plain": [
       "<Figure size 640x480 with 1 Axes>"
      ]
     },
     "metadata": {},
     "output_type": "display_data"
    }
   ],
   "source": [
    "plt.plot(Na)\n",
    "plt.plot(Nb)\n",
    "plt.plot(N*fan)"
   ]
  },
  {
   "cell_type": "code",
   "execution_count": 25,
   "id": "2a390533-7915-412d-b978-e4991077501b",
   "metadata": {},
   "outputs": [
    {
     "data": {
      "text/plain": [
       "[<matplotlib.lines.Line2D at 0x2334f87c9d0>]"
      ]
     },
     "execution_count": 25,
     "metadata": {},
     "output_type": "execute_result"
    },
    {
     "data": {
      "image/png": "[encoded data removed]",
      "text/plain": [
       "<Figure size 640x480 with 1 Axes>"
      ]
     },
     "metadata": {},
     "output_type": "display_data"
    }
   ],
   "source": [
    "plt.plot(Nk)"
   ]
  },
  {
   "cell_type": "markdown",
   "id": "16d62b0e-798f-4863-a6d2-6e6883f94b63",
   "metadata": {},
   "source": [
    "Save the data to some file"
   ]
  },
  {
   "cell_type": "code",
   "execution_count": 44,
   "id": "b4662140-71b5-4f20-9832-0d95f6453202",
   "metadata": {},
   "outputs": [
    {
     "name": "stdout",
     "output_type": "stream",
     "text": [
      "save Tp = 4.00e-01 photon number data\n"
     ]
    }
   ],
   "source": [
    "str1 = 'Photon_n_0_6pi'\n",
    "str2 = str(Tp)\n",
    "str3 = str(nn)\n",
    "str4 = str(\"{:.0e}\".format(gamma_r*gamma))\n",
    "str5 = str(\"{:.0e}\".format(gamma_c*gamma))\n",
    "file_name = str1+'_Tp'+str2+'_n'+str3+'_gr'+str4+'_gc'+str5\n",
    "np.savez_compressed(file_name, Na = Na, Nb = Nb, Nk = Nk)\n",
    "print(f'save Tp = {Tp:.2e} photon number data')"
   ]
  }
 ],
 "metadata": {
  "kernelspec": {
   "display_name": "Python 3 (ipykernel)",
   "language": "python",
   "name": "python3"
  },
  "language_info": {
   "codemirror_mode": {
    "name": "ipython",
    "version": 3
   },
   "file_extension": ".py",
   "mimetype": "text/x-python",
   "name": "python",
   "nbconvert_exporter": "python",
   "pygments_lexer": "ipython3",
   "version": "3.10.11"
  }
 },
 "nbformat": 4,
 "nbformat_minor": 5
}
