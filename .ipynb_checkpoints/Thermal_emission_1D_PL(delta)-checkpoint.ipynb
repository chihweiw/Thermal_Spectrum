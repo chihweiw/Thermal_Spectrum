{
 "cells": [
  {
   "cell_type": "code",
   "execution_count": 1,
   "id": "19aaaae8-4d21-4750-b86b-251bbfc16c5e",
   "metadata": {},
   "outputs": [],
   "source": [
    "import numpy as np\n",
    "from matplotlib import pyplot as plt\n",
    "from scipy import optimize\n",
    "import scipy.integrate as integrate\n",
    "import time\n",
    "from time import sleep\n",
    "from IPython.display import Image\n",
    "import sys"
   ]
  },
  {
   "cell_type": "markdown",
   "id": "2500a3c2-b408-4482-ba97-1f43be36b2ef",
   "metadata": {},
   "source": [
    "In the following, we define some constants and parameters."
   ]
  },
  {
   "cell_type": "code",
   "execution_count": 2,
   "id": "8d785bd1-abe1-4fa1-9b2f-97da111bc506",
   "metadata": {},
   "outputs": [],
   "source": [
    "mu0 = 4e-7*np.pi\n",
    "c0 = 299792458\n",
    "eps0 = 1/(c0**2*mu0)\n",
    "hbar = 1.05457182e-34\n",
    "kb = 1.380649e-23\n",
    "#$\\mu$ is dipole matrix element. This is set to e*1.3nm in the paper\n",
    "mu = 1.60217663e-19*1.3e-9\n",
    "#Lc is the total length of the 1d photonic lattice\n",
    "Lc = 1.2e-4\n",
    "#Lr is the total length of the system including the vaccum part.\n",
    "Lr = 0.012\n",
    "#Np is the number of periods of the photonic lattices.\n",
    "Np = 12\n",
    "#lp is the length of one period.\n",
    "lp = Lc/Np\n",
    "#A is the cross section area of the system. It affect the normalization of the electric field.\n",
    "A = 1"
   ]
  },
  {
   "cell_type": "markdown",
   "id": "f30aab44-831a-4328-866f-c9880a1a701b",
   "metadata": {
    "jp-MarkdownHeadingCollapsed": true,
    "tags": []
   },
   "source": [
    "## Compute Eigenmodes"
   ]
  },
  {
   "cell_type": "markdown",
   "id": "01711b09-5246-4d23-80ac-71577888154e",
   "metadata": {},
   "source": [
    "Define some constants and parameters. Tp is the effective transmission coefficient. The low_kb and high_kb define the range of $k l_p$ we will consider, kbar/$l_p$ is the average wave vector of all the modes we considered. Np is the number of the delta points in the Photonic lattices. L is the dimensionless total length of whole 1d space (scaled by lp=the length of one period of the photonic lattice). "
   ]
  },
  {
   "cell_type": "code",
   "execution_count": 82,
   "id": "279e6de8-bd79-41b7-8c37-4c047fa325d6",
   "metadata": {},
   "outputs": [],
   "source": [
    "Tp=1\n",
    "low_kb = 0\n",
    "high_kb = 5*np.pi\n",
    "eta_eff = 2*np.sqrt((1-Tp)/Tp)\n",
    "kbar = (low_kb + high_kb)/2\n",
    "Lam = eta_eff/kbar\n",
    "Np = 12\n",
    "L=1200"
   ]
  },
  {
   "cell_type": "markdown",
   "id": "ffeb0aac-abca-48cc-927e-4751b7dec16e",
   "metadata": {},
   "source": [
    "To solve the eigenmodes, we define a function of the wavevector that using the transfer matrix method to construct the boundary condition."
   ]
  },
  {
   "cell_type": "code",
   "execution_count": 1,
   "id": "f272cfc9-3b76-47a4-b2ac-823aaf3fb5c5",
   "metadata": {},
   "outputs": [],
   "source": [
    "def abNkl(kl):\n",
    "    z = np.exp(1j*kl)\n",
    "    z = z.item()\n",
    "    eta = Lam*kl\n",
    "    eta = eta.item()\n",
    "    M = np.matrix([[(1+1j/2*eta)*z,1j/2*eta*z],[-1j/2*eta/z,(1-1j/2*eta)/z]])\n",
    "    FM = np.linalg.matrix_power(M,Np-1)\n",
    "    u1 = np.matrix([[1/(2j)*z],[-1/(2j)/z]])\n",
    "    abNm = np.dot(FM,u1)\n",
    "    alp = abNm.item(0)\n",
    "    beta = abNm.item(1)\n",
    "    fbc = ((1+1j/2*eta)*alp + 1j/2*eta*beta)*z**(L-Np) + (-1j/2*eta*alp + (1-1j/2*eta)*beta)*z**(Np-L)\n",
    "    return np.real(fbc)"
   ]
  },
  {
   "cell_type": "markdown",
   "id": "353a4db5-887d-4342-add0-1ecd6b3d3c97",
   "metadata": {},
   "source": [
    "To ensure the eigenmodes in the list are not repeated, we define a function to check if two of them are repeated."
   ]
  },
  {
   "cell_type": "code",
   "execution_count": 84,
   "id": "93e72be8-acd6-4cf4-9496-e69d7b60cc33",
   "metadata": {},
   "outputs": [],
   "source": [
    "def check_repeat(samples, item, tol):\n",
    "    count = 0\n",
    "    repeat_f = False\n",
    "    while (not repeat_f) and count < len(samples):\n",
    "        item_ch= samples[count]\n",
    "        if np.abs(item-item_ch) < tol:\n",
    "            repeat_f = True\n",
    "        count += 1\n",
    "    return repeat_f"
   ]
  },
  {
   "cell_type": "markdown",
   "id": "f893dca5-41ef-41c5-8d0f-dad592a65b60",
   "metadata": {},
   "source": [
    "To solve the eigenmodes, we make a list of initial guesses and use optimize.root to find the root of the boundary condition output of abNkl. And, we only add the mode to the list if it is not the same with any of the modes in the list. For L=1200, the mode separation is $\\pi$/1200~0.0026, so we need to have the separation of the initial guess smaller than this value."
   ]
  },
  {
   "cell_type": "code",
   "execution_count": 85,
   "id": "ff20caaa-2935-4d87-82ce-e25663334f3b",
   "metadata": {},
   "outputs": [
    {
     "data": {
      "text/plain": [
       "5999"
      ]
     },
     "execution_count": 85,
     "metadata": {},
     "output_type": "execute_result"
    }
   ],
   "source": [
    "kl = np.linspace(low_kb,high_kb,36000)\n",
    "ks = []\n",
    "tol = 1e-7\n",
    "for k in kl:\n",
    "    ksol=optimize.root(abNkl,k,tol=1e-13)\n",
    "    if ksol.success:\n",
    "        ksc = ksol.x.item()\n",
    "        kscr = np.round(ksc,13)\n",
    "        if kscr > low_kb and kscr < high_kb:\n",
    "            if len(ks)>=1:\n",
    "                if not check_repeat(ks, kscr, tol):\n",
    "                    ks.append(kscr)\n",
    "            else:\n",
    "                ks.append(kscr)\n",
    "len(ks)"
   ]
  },
  {
   "cell_type": "markdown",
   "id": "04cbbc61-9fc9-4062-a3ca-432d7ee5a8b1",
   "metadata": {},
   "source": [
    "In order to compute confinement factor, we define two functions to output the value of the eigenmode given the position and the wave vector. The version 2 is better, but we need to compute the coefficients for each parts first (using u_coef_g)."
   ]
  },
  {
   "cell_type": "code",
   "execution_count": 127,
   "id": "8b8442f4-e172-4bc9-94d1-a226695ba785",
   "metadata": {},
   "outputs": [],
   "source": [
    "def u_coef_g(kl, Np):\n",
    "    z = np.exp(1j*kl)\n",
    "    eta = Lam*kl\n",
    "    u_coef = np.zeros((Np+1,2), dtype=np.cdouble)\n",
    "    u_coef[0,0] = -1j/2; u_coef[0,1] = 1j/2\n",
    "    M = np.matrix([[(1+1j/2*eta)*z,1j/2*eta*z],[-1j/2*eta/z,(1-1j/2*eta)/z]])\n",
    "    u1 = np.matrix([[1/(2j)*z],[-1/(2j)/z]])\n",
    "    for i in range(1,Np+1):\n",
    "        Mp = np.dot(np.linalg.matrix_power(M,i),u1)\n",
    "        u_coef[i,0] = Mp[0]*z**(-Np); u_coef[i,1] = Mp[1]*z**(Np)\n",
    "    return u_coef"
   ]
  },
  {
   "cell_type": "code",
   "execution_count": 129,
   "id": "eeb5e084-4cc4-4f7c-9e00-a1093d322f81",
   "metadata": {},
   "outputs": [],
   "source": [
    "u_coef_d = {};\n",
    "for kl in ks:\n",
    "    u_coef_d[kl] = u_coef_g(kl, Np)"
   ]
  },
  {
   "cell_type": "code",
   "execution_count": 154,
   "id": "7932e382-34e4-4844-97c8-3931358027af",
   "metadata": {},
   "outputs": [],
   "source": [
    "def unklf_v2(kl, ucoef_d, zv):\n",
    "    n = np.int_(zv) + 1\n",
    "    if n > Np:\n",
    "        n = Np + 1\n",
    "    u_coef_l = ucoef_d[kl]\n",
    "    u_coef = u_coef_l[n-1]\n",
    "    return u_coef[0]*np.exp(1j*kl*zv) + u_coef[1]*np.exp(-1j*kl*zv)"
   ]
  },
  {
   "cell_type": "code",
   "execution_count": 86,
   "id": "202536df-1d85-420f-8eb4-5c38e6c44415",
   "metadata": {},
   "outputs": [],
   "source": [
    "def unklf(kl,zv):\n",
    "    n = np.int_(zv) + 1\n",
    "    z = np.exp(1j*kl)\n",
    "    eta = Lam*kl\n",
    "    M = np.matrix([[(1+1j/2*eta)*z,1j/2*eta*z],[-1j/2*eta/z,(1-1j/2*eta)/z]])\n",
    "    u1 = np.matrix([[1/(2j)*z],[-1/(2j)/z]])\n",
    "    if n > 0 and n <= Np:\n",
    "        FM = np.linalg.matrix_power(M,n-1)\n",
    "        abNm = np.dot(FM,u1)\n",
    "        alp = abNm.item(0)/(z**n)\n",
    "        beta = abNm.item(1)*(z**n)\n",
    "        un = alp*np.exp(1j*kl*zv) + beta*np.exp(-1j*kl*zv)\n",
    "    elif n>Np:\n",
    "        FM = np.linalg.matrix_power(M,Np-1)\n",
    "        abNm = np.dot(FM,u1)\n",
    "        alp = abNm.item(0)\n",
    "        beta = abNm.item(1)\n",
    "        un = ((1+1j/2*eta)*alp + 1j/2*eta*beta)*z**(zv-Np) + (-1j/2*eta*alp + (1-1j/2*eta)*beta)*z**(Np-zv)    \n",
    "    return un"
   ]
  },
  {
   "cell_type": "markdown",
   "id": "d9d5a01b-33a9-48c2-ba7f-5df188bfc7c9",
   "metadata": {},
   "source": [
    "We generate a list of two integrations (inside and outside of the photonic lattice) of the square of fields for all eigenmodes. This will be used in the next photon number computation. This computation will take a lot of time, so we use a progress bar to keep track of the progress."
   ]
  },
  {
   "cell_type": "code",
   "execution_count": 179,
   "id": "48674806-4f4a-407e-bfde-2ef9c177c7ce",
   "metadata": {},
   "outputs": [
    {
     "name": "stdout",
     "output_type": "stream",
     "text": [
      "[😁😁😁😁😁😁😁😁😁😁😁😁😁😁😁😁😁😁  ] 18%"
     ]
    },
    {
     "name": "stderr",
     "output_type": "stream",
     "text": [
      "C:\\Users\\chihw\\AppData\\Local\\Temp\\ipykernel_117196\\2395988179.py:6: IntegrationWarning: The occurrence of roundoff error is detected, which prevents \n",
      "  the requested tolerance from being achieved.  The error may be \n",
      "  underestimated.\n",
      "  fsv = integrate.quad(lambda x: np.abs(unklf_v2(klv, u_coef_d, x))**2, Np, L, limit=50000)[0]\n"
     ]
    },
    {
     "name": "stdout",
     "output_type": "stream",
     "text": [
      "[😁😁😁😁😁😁😁😁😁😁😁😁😁😁😁😁😁😁😁😁😁😁😁😁😁😁😁😁😁😁😁😁😁😁😁😁😁😁😁😁😁😁😁😁😁😁😁😁😁😁😁😁😁😁😁😁😁😁😁😁😁😁😁😁😁😁😁😁😁😁😁😁😁😁😁😁😁😁😁😁😁😁😁😁😁😁😁😁😁😁😁😁😁😁😁😁😁😁😁] 99%"
     ]
    }
   ],
   "source": [
    "emode_int=[]\n",
    "count = 0\n",
    "lks = len(ks)\n",
    "for klv in ks:\n",
    "    plv = integrate.quad(lambda x: np.abs(unklf_v2(klv, u_coef_d, x))**2, 0, Np,limit=50000)[0]\n",
    "    fsv = integrate.quad(lambda x: np.abs(unklf_v2(klv, u_coef_d, x))**2, Np, L, limit=50000)[0]\n",
    "    emode_int.append([plv,fsv])\n",
    "    x = count/lks*100\n",
    "    sys.stdout.write('\\r')\n",
    "    sys.stdout.write(\"[%-20s] %d%%\" % ('😁'*int(x/10), int(x)))\n",
    "    sys.stdout.flush()\n",
    "    count += 1\n",
    "    sleep(0.0001)"
   ]
  },
  {
   "cell_type": "code",
   "execution_count": 180,
   "id": "fb02521b-878e-45d7-ac37-70f755fe147b",
   "metadata": {},
   "outputs": [
    {
     "data": {
      "text/plain": [
       "5999"
      ]
     },
     "execution_count": 180,
     "metadata": {},
     "output_type": "execute_result"
    }
   ],
   "source": [
    "len(emode_int)"
   ]
  },
  {
   "cell_type": "markdown",
   "id": "02653e38-036b-4b20-a778-62502b758f9b",
   "metadata": {
    "tags": []
   },
   "source": [
    "To impose the normalization condition for the field as in the paper: $$\\int_0^L\\,dz\\,\\epsilon(z) u_k^2(z) = \\epsilon_0\\,,$$ we need to have: $$\\int_0^L\\,dz\\,u_k^2(z) ~+~ \\frac{\\eta}{\\bar{k}}\\sum_{i=1}^{N_{pl}}\\,u_k^2(z_i) ~=~ 1\\,.$$ So, we at first compute the above expression using the non-normalized field: $$\\int_0^L\\,dz\\,\\tilde{u}_k^2(z) ~+~ \\frac{\\eta}{\\bar{k}}\\sum_{i=1}^{N_{pl}}\\,\\tilde{u}_k^2(z_i) ~=~ A\\,,$$ Then, we normalized the field like: $u_k(z) = \\frac{1}{\\sqrt{A}}\\,\\tilde{u}_k(z)$. The normalized $\\Gamma_k$ will be: $$\\Gamma_k = \\frac{1}{A}\\,\\int_0^{L_c}\\,d_z\\,\\tilde{u}_k^2(z)$$\n",
    "G_in and G_out are two values recording the renormalized integrations inside and outside of the photonic lattice."
   ]
  },
  {
   "cell_type": "code",
   "execution_count": 102,
   "id": "369b5df5-edb5-4271-bb60-af904b54f0b3",
   "metadata": {},
   "outputs": [
    {
     "data": {
      "text/plain": [
       "['ks', 'Gammak', 'emode_int']"
      ]
     },
     "execution_count": 102,
     "metadata": {},
     "output_type": "execute_result"
    }
   ],
   "source": [
    "emodes = np.load(\"Emodes_0_5pi_Tp1.npz\")\n",
    "emodes.files"
   ]
  },
  {
   "cell_type": "code",
   "execution_count": 104,
   "id": "f597b540-9fac-4f94-9b70-14804a5f28b1",
   "metadata": {},
   "outputs": [],
   "source": [
    "ks = emodes[\"ks\"]\n",
    "Gamma_k = emodes[\"Gammak\"]\n",
    "emode_int = emodes[\"emode_int\"]"
   ]
  },
  {
   "cell_type": "code",
   "execution_count": 181,
   "id": "f11735dc-83aa-471f-a39f-4b6602067cd0",
   "metadata": {
    "tags": []
   },
   "outputs": [],
   "source": [
    "def normal(Tp, ksl, e_int):    \n",
    "    if len(ksl) == len(e_int):\n",
    "        Gamma_k = []\n",
    "        for i in range(len(ksl)):\n",
    "            if Tp == 1:\n",
    "                A = e_int[i][0] + e_int[i][1]\n",
    "            else:\n",
    "                sum = 0\n",
    "                for z in range(Np):\n",
    "                    sum += np.abs(unklf(ksl[i],z+1))**2\n",
    "                A = e_int[i][0] + e_int[i][1] + Lam*sum\n",
    "            Gamma_k.append(e_int[i]/A)\n",
    "    else:\n",
    "        print(\"error!\")\n",
    "    return np.array(Gamma_k)"
   ]
  },
  {
   "cell_type": "code",
   "execution_count": 184,
   "id": "a4255724-5ee2-4419-9d9d-341cd2807194",
   "metadata": {},
   "outputs": [],
   "source": [
    "emode_int = np.array(emode_int)\n",
    "Gamma_k = normal(Tp,ks, emode_int)\n",
    "G_in = Gamma_k[...,0]\n",
    "G_out = Gamma_k[...,1]"
   ]
  },
  {
   "cell_type": "markdown",
   "id": "d8d22af9-477d-401a-8f02-057eccf4a7f2",
   "metadata": {},
   "source": [
    "We save the data generated into a file."
   ]
  },
  {
   "cell_type": "code",
   "execution_count": 191,
   "id": "badbea32-4177-407c-af32-ec950accf795",
   "metadata": {},
   "outputs": [],
   "source": [
    "np.savez_compressed(\"Emodes_0_5pi_Tp1_v2\", ks = ks, G_in = G_in, G_out = G_out, emode_int = emode_int) "
   ]
  },
  {
   "cell_type": "code",
   "execution_count": 23,
   "id": "2a14b0f5-b0f4-45a3-be02-c43fecd230c0",
   "metadata": {},
   "outputs": [
    {
     "data": {
      "text/plain": [
       "['ks', 'Gammak', 'emode_int']"
      ]
     },
     "execution_count": 23,
     "metadata": {},
     "output_type": "execute_result"
    }
   ],
   "source": [
    "emodes = np.load(\"Emodes_0_5pi_Tp001.npz\")\n",
    "emodes.files"
   ]
  },
  {
   "cell_type": "code",
   "execution_count": 167,
   "id": "194c46d4-baf6-4b56-920b-61c6848d5ea8",
   "metadata": {},
   "outputs": [],
   "source": [
    "#data = np.load(\"Emodes_v3.npz\")\n",
    "#data = dict(data)\n",
    "#data[\"Tp_001_kl\"] = np.array(ks)\n",
    "#data[\"Tp_001_gk\"] = np.array(Gamma_k)\n",
    "#data[\"Tp_001_int\"] = np.array(emode_int)\n",
    "#np.savez(\"Emodes_v3.npz\",**data)"
   ]
  },
  {
   "cell_type": "code",
   "execution_count": 12,
   "id": "998a7011-0d87-4d91-a857-9b6e6c5f650c",
   "metadata": {},
   "outputs": [],
   "source": [
    "#np.savez(\"Emodes_v3.npz\",Tp_001_kl=np.array(ks), Tp_001_gk=np.array(Gamma_k), Tp_001_int=np.array(emode_int))"
   ]
  },
  {
   "cell_type": "markdown",
   "id": "bbbdee8e-b530-48cd-973b-bd24edd1fcd1",
   "metadata": {
    "jp-MarkdownHeadingCollapsed": true,
    "tags": []
   },
   "source": [
    "### Generate $(\\Omega L_p/c)$-$T_p$ graph"
   ]
  },
  {
   "cell_type": "markdown",
   "id": "8c2b3a9b-1835-4377-9da0-bf717c45e205",
   "metadata": {},
   "source": [
    "This following function compute the percentage of the energy confined in the photonic lattice."
   ]
  },
  {
   "cell_type": "code",
   "execution_count": 11,
   "id": "7a593ec7-9363-493a-beb2-a9bb56e53c8c",
   "metadata": {},
   "outputs": [],
   "source": [
    "def energy_ratio(klv):\n",
    "    plv = integrate.quad(lambda x: np.abs(unklf(klv,x))**2, 0, Np,limit=1000)[0]\n",
    "    fsv = integrate.quad(lambda x: np.abs(unklf(klv,x))**2, Np, L, limit=1000)[0]\n",
    "    return plv/(plv+fsv)"
   ]
  },
  {
   "cell_type": "markdown",
   "id": "a07965fa-ef80-45b9-9579-231d840c5581",
   "metadata": {},
   "source": [
    "We scan the energy ratio for some range of eigenmodes."
   ]
  },
  {
   "cell_type": "code",
   "execution_count": 12,
   "id": "0c0c1f1a-dc6a-4145-97b6-eb4d71ef8244",
   "metadata": {},
   "outputs": [
    {
     "name": "stdout",
     "output_type": "stream",
     "text": [
      "100 modes: 1.848169 598.055892\n",
      "101 modes: 1.836255 609.046349\n",
      "102 modes: 1.823082 616.722674\n",
      "103 modes: 1.808866 620.956528\n",
      "104 modes: 1.793838 621.673503\n",
      "105 modes: 1.778233 618.854577\n",
      "106 modes: 1.746260 602.812428\n",
      "107 modes: 1.730373 589.828796\n",
      "108 modes: 1.714864 573.785128\n",
      "109 modes: 1.699958 554.930122\n",
      "110 modes: 1.685866 533.558060\n",
      "111 modes: 1.672785 510.004254\n",
      "112 modes: 1.660893 484.639788\n",
      "113 modes: 1.650348 457.865613\n",
      "114 modes: 1.641288 430.106090\n",
      "115 modes: 1.633825 401.802064\n",
      "116 modes: 1.628046 373.403560\n",
      "117 modes: 1.624013 345.362215\n",
      "118 modes: 1.872439 592.630781\n",
      "119 modes: 1.621761 318.123551\n"
     ]
    }
   ],
   "source": [
    "for k in range(100,120):\n",
    "    plv = integrate.quad(lambda x: np.abs(unklf(ks[k],x))**2, 0, Np,limit=1000)[0]\n",
    "    fsv = integrate.quad(lambda x: np.abs(unklf(ks[k],x))**2, Np, L, limit=1000)[0]\n",
    "    print(\"%d modes: %f %f\" % (k,plv, fsv))"
   ]
  },
  {
   "cell_type": "code",
   "execution_count": 26,
   "id": "cf2b6634-602b-499a-b5c3-f47197aa4479",
   "metadata": {},
   "outputs": [
    {
     "data": {
      "text/plain": [
       "6003"
      ]
     },
     "execution_count": 26,
     "metadata": {},
     "output_type": "execute_result"
    }
   ],
   "source": [
    "len(emode_int)"
   ]
  },
  {
   "cell_type": "code",
   "execution_count": 17,
   "id": "503395fe-2be8-41d5-8f56-169dbce18c36",
   "metadata": {},
   "outputs": [],
   "source": [
    "crit = 0.1\n",
    "pl_modes=[]\n",
    "for i in range(len(ks)):\n",
    "    ratio = emode_int[i][0]/(emode_int[i][0]+emode_int[i][1])\n",
    "    if ratio > crit:\n",
    "        pl_modes.append([Tp,ks[i]])"
   ]
  },
  {
   "cell_type": "code",
   "execution_count": 18,
   "id": "87df876b-8440-4f20-a4be-162dc499b49c",
   "metadata": {},
   "outputs": [
    {
     "data": {
      "image/png": "[encoded data removed]",
      "text/plain": [
       "<Figure size 432x648 with 1 Axes>"
      ]
     },
     "metadata": {
      "needs_background": "light"
     },
     "output_type": "display_data"
    }
   ],
   "source": [
    "pTpl=np.transpose(pl_modes)\n",
    "plt.figure(figsize=(6,9))\n",
    "plt.xscale(\"log\")\n",
    "plt.xlim(1e-4,1)\n",
    "plt.xlabel(r\"$T_{pl}$\")\n",
    "plt.ylabel(r\"$kL_{pl}$\")\n",
    "plt.scatter(pTpl[0],pTpl[1])\n",
    "plt.plot([np.pi,np.pi])\n",
    "plt.plot([2*np.pi,2*np.pi])\n",
    "plt.plot([3*np.pi,3*np.pi])\n",
    "plt.plot([4*np.pi,4*np.pi])\n",
    "plt.plot([5*np.pi,5*np.pi])\n",
    "plt.savefig(\"Efreq_Tp1_0_5pi_.png\",dpi=100)"
   ]
  },
  {
   "cell_type": "markdown",
   "id": "6915c779-1a2a-4f40-801b-baf86dfd4116",
   "metadata": {
    "jp-MarkdownHeadingCollapsed": true,
    "tags": []
   },
   "source": [
    "## Compute photon number"
   ]
  },
  {
   "cell_type": "markdown",
   "id": "7a233348-b210-4be4-868a-22996877568b",
   "metadata": {},
   "source": [
    "At first, we define some constants and parameters according to the paper"
   ]
  },
  {
   "cell_type": "code",
   "execution_count": 198,
   "id": "b1cb8d82-b62a-4257-afc4-15527ab0d571",
   "metadata": {},
   "outputs": [],
   "source": [
    "gamma = 1e12\n",
    "gamma_c = 1e9\n",
    "gamma_r = 1e13\n",
    "Lambda_0 = 1e10\n",
    "omega_0 = 1.6e14\n",
    "N = 601\n",
    "Temp_p = 400\n",
    "Temp = 400\n",
    "D = 2*mu**2/(hbar*eps0*A*Lc*gamma)"
   ]
  },
  {
   "cell_type": "markdown",
   "id": "f5818ed0-1c73-4af2-af50-bdb906d342b3",
   "metadata": {},
   "source": [
    "$f_a$ and $f_b$ are two functions related to the thermal relaxation."
   ]
  },
  {
   "cell_type": "code",
   "execution_count": 199,
   "id": "5382332e-0301-49dd-822d-1aa72df3b0cb",
   "metadata": {},
   "outputs": [],
   "source": [
    "def fa(omega_n,T):\n",
    "    return 1/(1+np.exp(-hbar*omega_n/(kb*T)))\n",
    "def fb(omega_n,T):\n",
    "    return np.exp(-hbar*omega_n/(kb*T))/(1+np.exp(-hbar*omega_n/(kb*T)))              "
   ]
  },
  {
   "cell_type": "markdown",
   "id": "1d50e8ea-8a73-4983-822e-efa2fc927ad1",
   "metadata": {},
   "source": [
    "Here we define a function that will give $\\frac{d N}{d t}$ after input the initial conditions of $N_a$, $N_b$, $N_k$, eigen modes and temperatures."
   ]
  },
  {
   "cell_type": "code",
   "execution_count": 3,
   "id": "db14bb10-cf8d-435e-835a-e8448e235016",
   "metadata": {},
   "outputs": [],
   "source": [
    "def Ndt(Nmati, modes, T, Tp, nw, nn=1):\n",
    "    \n",
    "#    start_time = time.time()\n",
    "    range_a = range(nn); range_ok = range(nn, nn+nw)\n",
    "    Kernel = np.zeros((nn,nw))\n",
    "    Ndti = np.zeros(2*nn+nw)\n",
    "    for n in range_a:\n",
    "        for k in range_ok:\n",
    "            L = 1/(1+((modes[n] - modes[k])/gamma)**2)\n",
    "            Kernel[n,k-nn] = modes[k]*modes[nw+k]*((Nmati[nn+n] - Nmati[n])*Nmati[nn+k] + Nmati[nn+n])*L\n",
    "    Kernel_sn = np.sum(Kernel, axis=0)\n",
    "    Kernel_sk = np.sum(Kernel, axis=1)\n",
    "    for n in range_a:\n",
    "        Lambda_n = Lambda_0*np.exp(hbar*(omega_0-modes[n])/(kb*Tp))\n",
    "        Ndti[n] = D*Kernel_sk[n] - Lambda_n*Nmati[n] - gamma_r*(Nmati[n] - N*fa(modes[n],T))\n",
    "        Ndti[nn+n] =  -D*Kernel_sk[n] + Lambda_n*Nmati[n] - gamma_r*(Nmati[nn+n] - N*fb(modes[n],T))\n",
    "    for k in range_ok:\n",
    "        Ndti[nn+k] = D*Kernel_sn[k-nn] - gamma_c*Nmati[nn+k]\n",
    "    \n",
    "#    end_time = time.time()\n",
    "#    print(f'The time used: {end_time - start_time}')\n",
    "    return Ndti    "
   ]
  },
  {
   "cell_type": "code",
   "execution_count": 203,
   "id": "078390c6-c05a-4f99-82d0-8fd0a48454a8",
   "metadata": {},
   "outputs": [
    {
     "data": {
      "text/plain": [
       "['ks', 'G_in', 'G_out', 'emode_int']"
      ]
     },
     "execution_count": 203,
     "metadata": {},
     "output_type": "execute_result"
    }
   ],
   "source": [
    "emodes = np.load(\"Emodes_0_5pi_Tp1_v2.npz\")\n",
    "emodes.files"
   ]
  },
  {
   "cell_type": "code",
   "execution_count": 204,
   "id": "31256589-6114-4590-85d7-a2c297a804f8",
   "metadata": {},
   "outputs": [],
   "source": [
    "ks = emodes[\"ks\"]\n",
    "G_in = emodes[\"G_in\"]\n",
    "G_out = emodes[\"G_out\"]"
   ]
  },
  {
   "cell_type": "code",
   "execution_count": 205,
   "id": "95430590-822e-4d2b-83e8-0cc7f4d0ad6f",
   "metadata": {},
   "outputs": [],
   "source": [
    "Omega_k = ks/lp*c0\n",
    "Nki = np.zeros((len(Omega_k)))"
   ]
  },
  {
   "cell_type": "markdown",
   "id": "d1cb34e5-5598-4cd4-8ab0-639eb08283d3",
   "metadata": {},
   "source": [
    "Here we assign the values of $\\omega_n$ and the initial conditions of $N_a$ and $N_b$."
   ]
  },
  {
   "cell_type": "code",
   "execution_count": 206,
   "id": "20a89ffa-7635-4f5c-8ea3-3460ed0cf5b6",
   "metadata": {},
   "outputs": [],
   "source": [
    "omega_n = np.linspace(1.2e14,5.2e14,40)\n",
    "#omega_n = np.array([2e14])\n",
    "Nani = np.ones(len(omega_n))*N\n",
    "Nbni = np.zeros(len(omega_n))"
   ]
  },
  {
   "cell_type": "markdown",
   "id": "9503a227-bc43-40cb-96aa-fee8d82b1624",
   "metadata": {},
   "source": [
    "To use Ndt function, we join the arrays of $N_a$, $N_b$ and $N_k$ and the arrays of $\\omega_n$, $\\Omega_k$ and G_in"
   ]
  },
  {
   "cell_type": "code",
   "execution_count": 209,
   "id": "a4626d33-2934-41ea-ad71-acf83ff9578f",
   "metadata": {},
   "outputs": [],
   "source": [
    "Ni = np.hstack((Nani, Nbni, Nki))\n",
    "modes = np.hstack((omega_n, Omega_k, G_in)) "
   ]
  },
  {
   "cell_type": "markdown",
   "id": "9378e428-0398-4af0-a5f5-f6feaa0dda1b",
   "metadata": {},
   "source": [
    "We define a function to compute $N(t)$ using the Runge-Kutta method. Starting from t=0, we input the final time t and number of steps. And it will take a long time so we use a progress bar to track."
   ]
  },
  {
   "cell_type": "code",
   "execution_count": 213,
   "id": "98cf4333-96aa-4e08-b1e6-1c2f78aa4b0c",
   "metadata": {},
   "outputs": [],
   "source": [
    "def rk4(Nmati, modes, t, n_steps, r_step, T, Tp, nn=1):\n",
    "    start_time = time.time()\n",
    "    h = t/n_steps\n",
    "    nw = len(Nmati) - 2*nn\n",
    "    Nat = []\n",
    "    Nbt = []\n",
    "    Nkt = []\n",
    "    for i in range(n_steps):\n",
    "        k1 = Ndt(Nmati, modes, T, Tp, nw, nn)*h\n",
    "        Nmatik1 = Nmati + k1/2\n",
    "        k2 = Ndt(Nmatik1, modes, T, Tp, nw, nn)*h\n",
    "        Nmatik2 = Nmati + k2/2\n",
    "        k3 = Ndt(Nmatik2, modes, T, Tp, nw, nn)*h\n",
    "        Nmatik3 = Nmati + k3\n",
    "        k4 = Ndt(Nmatik3, modes, T, Tp, nw, nn)*h\n",
    "        Nmati = Nmati + k1/6 + k2/3 + k3/3 + k4/6\n",
    "        if (i%r_step) == 0:\n",
    "            Nat.append(Nmati[:nn])\n",
    "            Nbt.append(Nmati[nn:2*nn])\n",
    "            Nkt.append(Nmati[2*nn:])\n",
    "        x = i/n_steps*100\n",
    "        sys.stdout.write('\\r')\n",
    "        sys.stdout.write(\"[%-20s] %d%%\" % ('😁'*int(x/10), int(x)))\n",
    "        sys.stdout.flush()\n",
    "        sleep(0.0001)\n",
    "    end_time = time.time()\n",
    "    print(f'The time used: {end_time-start_time}')\n",
    "    return np.array(Nat), np.array(Nbt), np.array(Nkt)  "
   ]
  },
  {
   "cell_type": "code",
   "execution_count": 214,
   "id": "bef55179-32de-40ae-a2c3-5a6e7e3ef7ca",
   "metadata": {},
   "outputs": [
    {
     "name": "stdout",
     "output_type": "stream",
     "text": [
      "[😁😁😁😁😁😁😁😁😁           ] 99%The time used: 1859.903902053833\n"
     ]
    }
   ],
   "source": [
    "Na, Nb, Nk = rk4(Ni, modes, 5e-13, 1000, 10, Temp, Temp_p, nn=len(omega_n))"
   ]
  },
  {
   "cell_type": "code",
   "execution_count": 216,
   "id": "9fd5c7ad-16b0-431f-a39d-6be184d7c988",
   "metadata": {},
   "outputs": [
    {
     "data": {
      "image/png": "[encoded data removed]",
      "text/plain": [
       "<Figure size 432x288 with 1 Axes>"
      ]
     },
     "metadata": {
      "needs_background": "light"
     },
     "output_type": "display_data"
    }
   ],
   "source": [
    "i = 1\n",
    "tl = np.linspace(0,5e-13,100)\n",
    "plt.xlabel(\"time(s)\")\n",
    "plt.plot(tl,Na[...,i], label=\"ground_state\")\n",
    "plt.plot(tl,Nb[...,i], label=\"excited_state\")\n",
    "plt.legend()\n",
    "plt.savefig(\"Na_Nb_wspread.png\")"
   ]
  },
  {
   "cell_type": "code",
   "execution_count": 217,
   "id": "62a60dba-87a1-432f-a578-1b7a0a3180d0",
   "metadata": {},
   "outputs": [
    {
     "data": {
      "image/png": "[encoded data removed]",
      "text/plain": [
       "<Figure size 432x288 with 1 Axes>"
      ]
     },
     "metadata": {
      "needs_background": "light"
     },
     "output_type": "display_data"
    }
   ],
   "source": [
    "plt.xlabel(\"$\\omega$\")\n",
    "plt.plot(Omega_k,Nk[-1],'b.', label=\"photon number\")\n",
    "plt.legend()\n",
    "plt.savefig(\"Nk_Tp1_n40_ser.png\")"
   ]
  },
  {
   "cell_type": "code",
   "execution_count": 218,
   "id": "3c75e460-f046-4b52-8586-b0abe8ded99f",
   "metadata": {},
   "outputs": [],
   "source": [
    "np.savez_compressed('Photon_n_0_5pi_Tp1_n40_v2', Nat = Na, Nbt = Nb, Nkt = Nk)"
   ]
  },
  {
   "cell_type": "markdown",
   "id": "e9abcaa9-dc98-41ec-928c-ee9f9bac0ee2",
   "metadata": {},
   "source": [
    "## Compute $S_{in}$ and $S_{out}$"
   ]
  },
  {
   "cell_type": "markdown",
   "id": "9e45960e-31ec-429f-a310-1d3f52161f36",
   "metadata": {},
   "source": [
    "### Define $S_{in}$, $S_{out}$ and plot them"
   ]
  },
  {
   "cell_type": "code",
   "execution_count": 13,
   "id": "e653b459-4858-42ad-8ce4-9f76f1cf6c61",
   "metadata": {},
   "outputs": [],
   "source": [
    "def fa(omega_n,T):\n",
    "    return 1/(1+np.exp(-hbar*omega_n/(kb*T)))\n",
    "def fb(omega_n,T):\n",
    "    return np.exp(-hbar*omega_n/(kb*T))/(1+np.exp(-hbar*omega_n/(kb*T)))   \n",
    "N = 601\n",
    "Temp = 400"
   ]
  },
  {
   "cell_type": "code",
   "execution_count": 9,
   "id": "b33b40ee-6069-4c2c-9c47-f080e1737698",
   "metadata": {},
   "outputs": [],
   "source": [
    "omega_n = np.linspace(1.2e14,5.2e14,40)"
   ]
  },
  {
   "cell_type": "code",
   "execution_count": 3,
   "id": "87a14bcc-a2cd-40f0-b402-9c9a901b75f9",
   "metadata": {},
   "outputs": [
    {
     "data": {
      "text/plain": [
       "['Nat', 'Nbt', 'Nkt']"
      ]
     },
     "execution_count": 3,
     "metadata": {},
     "output_type": "execute_result"
    }
   ],
   "source": [
    "nit_tp1 = np.load('Photon_n_0_5pi_Tp1_n40_v2.npz')\n",
    "nit_tp001 = np.load('Photon_n_0_5pi_Tp001_n40_v2.npz')\n",
    "nit_tp001.files"
   ]
  },
  {
   "cell_type": "code",
   "execution_count": 4,
   "id": "63dc4d37-cabf-4428-85e3-0b8e49ec30c1",
   "metadata": {},
   "outputs": [
    {
     "data": {
      "text/plain": [
       "['ks', 'G_in', 'G_out', 'emode_int']"
      ]
     },
     "execution_count": 4,
     "metadata": {},
     "output_type": "execute_result"
    }
   ],
   "source": [
    "emodes_tp1 = np.load('Emodes_0_5pi_Tp1_v2.npz')\n",
    "emodes_tp001 = np.load('Emodes_0_5pi_Tp001_v2.npz')\n",
    "emodes_tp001.files"
   ]
  },
  {
   "cell_type": "code",
   "execution_count": 5,
   "id": "6229ae85-7cd6-48c1-b0ed-914d56b1466a",
   "metadata": {},
   "outputs": [],
   "source": [
    "Nat_tp1 = nit_tp1['Nat']\n",
    "Nbt_tp1 = nit_tp1['Nbt']\n",
    "Nkt_tp1 = nit_tp1['Nkt']\n",
    "ks_tp1 = emodes_tp1['ks']\n",
    "G_in_tp1 = emodes_tp1['G_in']\n",
    "G_out_tp1 = emodes_tp1['G_out']\n",
    "Omega_k_tp1 = ks_tp1/lp*c0"
   ]
  },
  {
   "cell_type": "code",
   "execution_count": 6,
   "id": "66f18a5d-fabc-453b-a55f-8560bec1b811",
   "metadata": {},
   "outputs": [],
   "source": [
    "Nat_tp001 = nit_tp001['Nat']\n",
    "Nbt_tp001 = nit_tp001['Nbt']\n",
    "Nkt_tp001 = nit_tp001['Nkt']\n",
    "ks_tp001 = emodes_tp001['ks']\n",
    "G_in_tp001 = emodes_tp001['G_in']\n",
    "G_out_tp001 = emodes_tp001['G_out']\n",
    "Omega_k_tp001 = ks_tp001/lp*c0"
   ]
  },
  {
   "cell_type": "code",
   "execution_count": 15,
   "id": "9e85fa91-12e6-4245-833e-d8a7a846c2c2",
   "metadata": {},
   "outputs": [],
   "source": [
    "Naeql = N*fa(omega_n,Temp)"
   ]
  },
  {
   "cell_type": "code",
   "execution_count": 44,
   "id": "b684996a-2ece-4128-beef-8ff3f1d0b9b5",
   "metadata": {},
   "outputs": [
    {
     "data": {
      "text/plain": [
       "601.0000000000022"
      ]
     },
     "execution_count": 44,
     "metadata": {},
     "output_type": "execute_result"
    }
   ],
   "source": [
    "np.max(Nat_tp1 + Nbt_tp1)"
   ]
  },
  {
   "cell_type": "code",
   "execution_count": 24,
   "id": "4eeb138a-3fda-4600-a67e-c07737513a65",
   "metadata": {},
   "outputs": [
    {
     "data": {
      "text/plain": [
       "[<matplotlib.lines.Line2D at 0x29059f49ca0>]"
      ]
     },
     "execution_count": 24,
     "metadata": {},
     "output_type": "execute_result"
    },
    {
     "data": {
      "image/png": "[encoded data removed]",
      "text/plain": [
       "<Figure size 432x288 with 1 Axes>"
      ]
     },
     "metadata": {
      "needs_background": "light"
     },
     "output_type": "display_data"
    }
   ],
   "source": [
    "i = 4\n",
    "Naeq = np.ones(100)*Naeql[i]\n",
    "plt.plot(Nat_tp001[...,i])\n",
    "plt.plot(Naeq, 'r--')"
   ]
  },
  {
   "cell_type": "code",
   "execution_count": 38,
   "id": "57e5c5b3-f229-42f8-9a1d-545d3933df7f",
   "metadata": {},
   "outputs": [
    {
     "data": {
      "image/png": "[encoded data removed]",
      "text/plain": [
       "<Figure size 432x288 with 4 Axes>"
      ]
     },
     "metadata": {
      "needs_background": "light"
     },
     "output_type": "display_data"
    }
   ],
   "source": [
    "fig, axs = plt.subplots(2, 2)\n",
    "axs[0, 0].plot(Nat_tp001[...,5])\n",
    "axs[0, 0].plot(np.ones(100)*Naeql[5], 'r--')\n",
    "axs[0, 1].plot(Nat_tp001[...,10])\n",
    "axs[0, 1].plot(np.ones(100)*Naeql[10], 'r--')\n",
    "axs[1, 0].plot(Nat_tp001[...,15])\n",
    "axs[1, 0].plot(np.ones(100)*Naeql[15], 'r--')\n",
    "axs[1, 1].plot(Nat_tp001[...,20])\n",
    "axs[1, 1].plot(np.ones(100)*Naeql[20], 'r--')\n",
    "\n",
    "for ax in axs.flat:\n",
    "    ax.set(xlabel='$t(5*10^{14}s)$', ylabel='$N_a$')\n",
    "\n",
    "# Hide x labels and tick labels for top plots and y ticks for right plots.\n",
    "for ax in axs.flat:\n",
    "    ax.label_outer()\n",
    "\n",
    "plt.savefig('Na_equil_tp001.png',dpi=100)"
   ]
  },
  {
   "cell_type": "code",
   "execution_count": 80,
   "id": "efdfe4b0-8bfd-4641-a825-393d015c318d",
   "metadata": {},
   "outputs": [
    {
     "data": {
      "image/png": "[encoded data removed]",
      "text/plain": [
       "<Figure size 432x288 with 1 Axes>"
      ]
     },
     "metadata": {
      "needs_background": "light"
     },
     "output_type": "display_data"
    }
   ],
   "source": [
    "plt.xlim(1e14,4e14)\n",
    "plt.xlabel(r\"$\\omega$\")\n",
    "plt.title(\"$\\omega_n=1.2e14 \\sim 5.2e14 Hz$ (40 points)\")\n",
    "#plt.ylim(0,3e-17)\n",
    "plt.plot(Omega_k_tp1,Nkt_tp1[-1],'b.', label='photon number, $T_p=1$')\n",
    "plt.legend()\n",
    "plt.savefig(\"photon_tp1_n40.png\", dpi=100)"
   ]
  },
  {
   "cell_type": "code",
   "execution_count": 79,
   "id": "16196c99-83f0-4fb6-b65a-3f0cc4571fcd",
   "metadata": {},
   "outputs": [
    {
     "data": {
      "image/png": "[encoded data removed]",
      "text/plain": [
       "<Figure size 432x288 with 1 Axes>"
      ]
     },
     "metadata": {
      "needs_background": "light"
     },
     "output_type": "display_data"
    }
   ],
   "source": [
    "plt.xlim(1e14,4e14)\n",
    "plt.xlabel(r\"$\\omega$\")\n",
    "plt.title(\"$\\omega_n=1.2e14 \\sim 5.2e14 Hz$ (40 points)\")\n",
    "#plt.ylim(0,3e-17)\n",
    "plt.plot(Omega_k_tp001,Nkt_tp001[-1],'b.', label='photon number, $T_p=0.01$')\n",
    "plt.legend()\n",
    "plt.savefig(\"photon_tp001_n40.png\", dpi=100)"
   ]
  },
  {
   "cell_type": "markdown",
   "id": "8aacac9c-77a1-4bb5-9f9d-16a03d9fd57a",
   "metadata": {},
   "source": [
    "The decay parameter $\\gamma_d$ determine how fast the detector's excited atoms decay to ground state. In the paper, it mention that if the value is too big, it will lower the spectrum resolution. But, if it is too small, it will introduce noise. So, we need to try several different values of $\\gamma_d$. And, we assign $N_k$ numbers as the $N_k$ at the final time."
   ]
  },
  {
   "cell_type": "code",
   "execution_count": 22,
   "id": "f14759d3-6245-49c7-af06-04a4963fa91b",
   "metadata": {},
   "outputs": [],
   "source": [
    "gamma_d = 1e11\n",
    "Nk_tp1 = Nkt_tp1[-1]\n",
    "Nk_tp001 = Nkt_tp001[-1]"
   ]
  },
  {
   "cell_type": "markdown",
   "id": "13148cf2-27cb-49b1-8b49-5ffea958688f",
   "metadata": {},
   "source": [
    "Here we define the Signal_in and Signal_out to compute the strength of the signal inside and outside of the photonic lattice."
   ]
  },
  {
   "cell_type": "code",
   "execution_count": 23,
   "id": "e8776a27-ba80-4ce5-8108-0e0eace96e9d",
   "metadata": {},
   "outputs": [],
   "source": [
    "def Signal_in(Omega_k,G_in,Nk,omega):\n",
    "    Lorentz_f=[]\n",
    "    for i in range(len(Omega_k)):\n",
    "        Lorentz_f.append(gamma_d/(gamma_d**2+(omega-Omega_k[i])**2))\n",
    "    return (Omega_k*Nk*G_in*Lorentz_f).sum()\n",
    "\n",
    "def Signal_out(Omega_k,G_out,Nk,omega):\n",
    "    Lorentz_f=[]\n",
    "    for i in range(len(Omega_k)):\n",
    "        Lorentz_f.append(gamma_d/(gamma_d**2+(omega-Omega_k[i])**2))\n",
    "    return (Omega_k*Nk*G_out*Lorentz_f).sum()"
   ]
  },
  {
   "cell_type": "code",
   "execution_count": 24,
   "id": "6dee62a2-2d92-4cd7-af36-444a642a8cae",
   "metadata": {},
   "outputs": [],
   "source": [
    "omega_l = np.linspace(5e13,4e14,1000)\n",
    "sl_in_tp1 = []\n",
    "sl_in_tp001 = []\n",
    "for omega in omega_l:\n",
    "    sl_in_tp1.append(Signal_in(Omega_k_tp1,G_in_tp1,Nk_tp1,omega))\n",
    "    sl_in_tp001.append(Signal_in(Omega_k_tp001,G_in_tp001,Nk_tp001,omega))\n",
    "sl_in_tp1 = np.array(sl_in_tp1)\n",
    "sl_in_tp001 = np.array(sl_in_tp001)"
   ]
  },
  {
   "cell_type": "code",
   "execution_count": 63,
   "id": "e213f26b-8f93-413c-8de1-3ea40a9f1823",
   "metadata": {},
   "outputs": [
    {
     "data": {
      "image/png": "[encoded data removed]",
      "text/plain": [
       "<Figure size 432x288 with 1 Axes>"
      ]
     },
     "metadata": {
      "needs_background": "light"
     },
     "output_type": "display_data"
    }
   ],
   "source": [
    "plt.xlabel(r\"$\\omega$\")\n",
    "plt.ylabel(r\"$S_{in}$\")\n",
    "plt.ylim(0,5e-15)\n",
    "plt.xlim(1e14,5e14)\n",
    "plt.title(\"$\\omega_n=1.2e14 \\sim 5.2e14 Hz$ (40 points)\")\n",
    "plt.plot(omega_l,sl_in_tp1, label=\"$T_p=1$\")\n",
    "plt.plot(omega_l,sl_in_tp001, label=\"$T_p=0.01$\")\n",
    "plt.legend(loc=1)\n",
    "plt.savefig(\"Sin_0_5pi_n40_v2.png\", dpi=100)"
   ]
  },
  {
   "cell_type": "code",
   "execution_count": 34,
   "id": "f0f3b1ca-1fdf-47e1-b0f1-7912035a77a8",
   "metadata": {},
   "outputs": [],
   "source": [
    "omega_l = np.linspace(5e13,4e14,1000)\n",
    "sl_out_tp1 = []\n",
    "sl_out_tp001 = []\n",
    "for omega in omega_l:\n",
    "    sl_out_tp1.append(Signal_out(Omega_k_tp1,G_out_tp1,Nk_tp1,omega))\n",
    "    sl_out_tp001.append(Signal_out(Omega_k_tp001,G_out_tp001,Nk_tp001,omega))\n",
    "sl_out_tp1 = np.array(sl_out_tp1)\n",
    "sl_out_tp001 = np.array(sl_out_tp001)"
   ]
  },
  {
   "cell_type": "code",
   "execution_count": 61,
   "id": "4d3537ae-205f-4fe2-8cba-c2daf9888230",
   "metadata": {},
   "outputs": [
    {
     "data": {
      "image/png": "[encoded data removed]",
      "text/plain": [
       "<Figure size 432x288 with 1 Axes>"
      ]
     },
     "metadata": {
      "needs_background": "light"
     },
     "output_type": "display_data"
    }
   ],
   "source": [
    "plt.xlabel(r\"$\\omega$\")\n",
    "plt.ylabel(r\"$S_{out}$\")\n",
    "plt.ylim(0,3e-13)\n",
    "plt.xlim(1e14,5e14)\n",
    "plt.title(\"$\\omega_n=1.2e14 \\sim 5.2e14 Hz$ (40 points)\")\n",
    "plt.plot(omega_l,sl_out_tp1, label=\"$T_p=1$\")\n",
    "plt.plot(omega_l,sl_out_tp001, label=\"$T_p=0.01$\")\n",
    "plt.legend()\n",
    "plt.savefig(\"Sout_0_5pi_n40_v2.png\", dpi=100)"
   ]
  }
 ],
 "metadata": {
  "kernelspec": {
   "display_name": "Python 3 (ipykernel)",
   "language": "python",
   "name": "python3"
  },
  "language_info": {
   "codemirror_mode": {
    "name": "ipython",
    "version": 3
   },
   "file_extension": ".py",
   "mimetype": "text/x-python",
   "name": "python",
   "nbconvert_exporter": "python",
   "pygments_lexer": "ipython3",
   "version": "3.9.12"
  }
 },
 "nbformat": 4,
 "nbformat_minor": 5
}
