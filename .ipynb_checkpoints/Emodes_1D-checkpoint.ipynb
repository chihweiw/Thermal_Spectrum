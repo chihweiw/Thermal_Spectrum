{
 "cells": [
  {
   "cell_type": "markdown",
   "id": "c8dd8460-25d6-4cc8-90e6-ce4549e768e6",
   "metadata": {
    "jp-MarkdownHeadingCollapsed": true,
    "tags": []
   },
   "source": [
    "## Introduction"
   ]
  },
  {
   "cell_type": "markdown",
   "id": "b742778a-91f8-4e51-87f5-4ce386a56c95",
   "metadata": {},
   "source": [
    "In this work, the system is composed of a small photonic crystal part and a large free space part. Basically, we can consider a very large cavity with perfectly reflectin walls at $z=0$ and $z=L$. The photonic crystal part is modeled as a series of semitransparent interfaces and is located at $z=0$ to $z=L_c=N_{pc}l_p$, where $N_{pc}$ is the number of periods of the photonic cyrstal and $l_p$ is the length of one period. The picture of the system is the following:   \n",
    "![System](system_OPTIC.png). \n",
    "\n",
    "To represent the series of interfaces, the dielectric permittivity is:\n",
    "$$ \\epsilon(z) = \\epsilon_0 \\left[ 1+\\frac{\\eta}{\\bar{k}}\\sum_{j=1}^{N_{pc}}\\delta(z-z_j) \\right]\\,, $$\n",
    "where $\\eta=2\\sqrt{(1-T_{pc})/T_{pc}}$, $T_{pc}$ is an effective transmission at each interface located at $z_j=j l_p$ and $\\bar{k}$ is the average magnitude of the electromagnetic field wave vector.\n",
    "\n",
    "The eigenmodes in this system will satisfy the following equation derived from Maxwell equations:\n",
    "$$ \\frac{d^2}{dz^2}u_k(z) = -\\mu_0\\,\\epsilon(z)\\Omega_k^2 u_k(z)\\,, $$\n",
    "where $\\mu_0$ is the permeability in vacuum, $\\Omega_k$ is the eigenfrequency, and $k$ labels the eigenmode.\n",
    "\n",
    "The boundary conditions at the two ends of the system are:\n",
    "$$ u_k(0)=u_k(L)=0\\,.$$\n",
    "At each interface, the additional boundary conditions are:\n",
    "$$\n",
    "\\begin{gather}\n",
    "u_k(z_j^+) = u_k(z_j^-)\\,, \\\\\n",
    "\\frac{d}{dz}u_k(z_j^+) - \\frac{d}{dz}u_k(z_j^-)=-\\eta k u_k(z_j)\\,.\n",
    "\\end{gather}\n",
    "$$\n",
    "Each eigenmode function will be separated into several regions by the interfaces. In any region, the function can be expanded by $e^{i k z}$ and $e^{-i k z}$:\n",
    "$$\n",
    "u_{k,n}(z) = \\alpha_{k,n}\\,e^{i k z} + \\beta_{k,n}\\,e^{-i k z}\\,, ~~~~~n = 0, 1, \\cdots, N_{pc}-1\\,,\n",
    "$$\n",
    "where $z$ is in the range: $z_{n} < z < z_{n+1}$.\n",
    "\n",
    "The function of each region are related to the neighbor ones by the the boundary conditions at the interface between them and they can be formulated in the transfer matrix method:\n",
    "$$\n",
    "\\begin{bmatrix} e^{-i k l_p} & e^{i k l_p} \\\\ e^{-i k l_p} & -e^{i k l_p} \\end{bmatrix} \\begin{bmatrix} \\alpha_{k,n+1} e^{i k z_{n+1}^-} \\\\ \\beta_{k,n+1} e^{-i k z_{n+1}^-} \\end{bmatrix} = \\begin{bmatrix} 1 & 1 \\\\ 1+i\\eta & -(1-i\\eta) \\end{bmatrix}\\,\\begin{bmatrix} \\alpha_{k,n} e^{i k z_n^-} \\\\ \\beta_{k,n} e^{-i k z_n^-} \\end{bmatrix}\\,.\n",
    "$$\n",
    "Consequently, the field value at the interface $z=z_{n+1}^-$ is related to the one at $z=z_n^-$ by:\n",
    "$$\n",
    "\\begin{bmatrix} \\alpha_{k,n+1}\\,e^{i k z_{n+1}^-} \\\\ \\beta_{k,n+1}\\,e^{-i k z_{n+1}^-} \\end{bmatrix} = \\mathcal{M}\\,\\begin{bmatrix} \\alpha_{k,n}\\,e^{i k z_n^-} \\\\ \\beta_{k,n}\\,e^{-i k z_n^-} \\end{bmatrix}\\,,\n",
    "$$\n",
    "where $\\mathcal{M}$ is:\n",
    "$$\n",
    "\\mathcal{M} = \\begin{bmatrix} e^{-i k l_p} & e^{i k l_p} \\\\ e^{-i k l_p} & -e^{i k l_p} \\end{bmatrix}^{-1} \\begin{bmatrix} 1 & 1 \\\\ 1+i\\eta & -(1-i\\eta) \\end{bmatrix} = \\begin{bmatrix} (1+\\frac{i\\eta}{2})e^{-i k l_p} & \\frac{i\\eta}{2}e^{i k l_p} \\\\ -\\frac{i\\eta}{2}e^{-i k l_p} & (1-\\frac{i\\eta}{2})e^{i k l_p} \\end{bmatrix}\\,.\n",
    "$$\n",
    "From the boundary condtion at $z=0$, we know $\\alpha_0 = -\\beta_0$. By choosing the normalization condition, we can set $\\alpha_0 = \\frac{1}{2 i}$ and $\\beta_0 = -\\frac{1}{2 i}$. Therefore, the function value at $z=z^-_{N_{pc}}=N_{pc}l_p$ is:\n",
    "$$\n",
    "\\begin{bmatrix} \\alpha_{k,N_{pc}-1}\\,e^{i k l_p N_{pc}} \\\\ \\beta_{k,N_{pc}-1}\\,e^{-i k l_p N_{pc}} \\end{bmatrix} = \\mathcal{M}^{N_{pc}-1}\\,\\begin{bmatrix} \\frac{1}{2 i}\\,e^{i k l_p} \\\\ -\\frac{1}{2 i}\\,e^{-i k l_p} \\end{bmatrix}\\,.\n",
    "$$\n",
    "The function in the free space part satisfy the boundary condtion at $z=L$:\n",
    "$$\n",
    "\\alpha_{k,N_{pc}} e^{i k L} + \\beta_{k, N_{pc}} e^{-i k L} = 0\\,.\n",
    "$$\n",
    "By expressing the coefficients $\\alpha_{k,N_{pc}}$ and $\\beta_{k, N_{pc}}$ with $\\alpha_{k,N_{pc}-1}$ and $\\beta_{k,N_{pc}-1}$ through the boundary conditions at $z=z_{N_{pc}}$, we have the following equation:\n",
    "$$\n",
    "\\left((1+\\frac{i\\eta}{2})\\alpha + \\frac{i\\eta}{2}\\beta\\right)e^{i k (L-N_{pc}l_p)} + \\left(-\\frac{i\\eta}{2}\\alpha + (1-\\frac{i\\eta}{2})\\beta \\right)e^{-i k (L-N_{pc}l_p)} = 0\\,,\n",
    "$$\n",
    "where $\\alpha$ and $\\beta$ are:\n",
    "$$\n",
    "\\alpha = \\alpha_{k,N_{pc}-1}\\,e^{i k l_p N_{pc}}\\,, ~~~~~\\beta = \\beta_{k,N_{pc}-1}\\,e^{-i k l_p N_{pc}}\\,.\n",
    "$$\n",
    "We need to solve the above equation in order to obtain the eigenmodes $k$'s.\n",
    "\n",
    "----------------------------------------------------------------------------------------------------------------------------------------------------------------------\n",
    "\n",
    "In the program, we define **abNkl(kl, Lam, Np)** to generate the expression for the equation. We scan the value of $k$ in the specified range to find the roots of the equation. After we have obtained the list of eigenmodes, we define **u_coef_g(kl, Np)** to generate the list of the coefficients for each mode and **unklf(kl, ucoef_d, zv)** to output the value of a particular mode at $z=$zv.\n",
    "\n",
    "After we can output the function of any particular mode, we compute the integration of the function inside and outside of the photonic crystal and then define **normal(Tp, ksl, e_int, u_coef_d)** to normalize the integration values(inside/outside) according to the normalization condition:\n",
    "$$\n",
    "\\int_0^L\\,dz\\,\\epsilon(z) u_k^2(z) = \\epsilon_0\\,,\n",
    "$$ \n"
   ]
  },
  {
   "cell_type": "markdown",
   "id": "e84c9ec6-e326-4162-ae9c-090100ee025e",
   "metadata": {
    "jp-MarkdownHeadingCollapsed": true,
    "tags": []
   },
   "source": [
    "## Initialization"
   ]
  },
  {
   "cell_type": "code",
   "execution_count": 2,
   "id": "413d1261-db89-4fcf-a805-186b99d74909",
   "metadata": {
    "tags": []
   },
   "outputs": [],
   "source": [
    "import numpy as np\n",
    "import mpmath\n",
    "from matplotlib import pyplot as plt\n",
    "from scipy import optimize\n",
    "import scipy.integrate as integrate\n",
    "import time\n",
    "from time import sleep\n",
    "from IPython.display import Image\n",
    "import sys\n",
    "from tqdm.notebook import tqdm"
   ]
  },
  {
   "cell_type": "markdown",
   "id": "81227557-4138-4815-928a-2b2c9114546f",
   "metadata": {},
   "source": [
    "Define some physical constants."
   ]
  },
  {
   "cell_type": "code",
   "execution_count": 3,
   "id": "109a9409-5520-4871-9ee0-a77e160e7645",
   "metadata": {
    "tags": []
   },
   "outputs": [],
   "source": [
    "mu0 = 4e-7*np.pi\n",
    "c0 = 299792458\n",
    "eps0 = 1/(c0**2*mu0)\n",
    "hbar = 1.05457182e-34\n",
    "kb = 1.380649e-23"
   ]
  },
  {
   "cell_type": "markdown",
   "id": "6c9838d6-67c7-4deb-8ec0-a1a4347fb331",
   "metadata": {},
   "source": [
    "Define some parameters related to the model."
   ]
  },
  {
   "cell_type": "code",
   "execution_count": 4,
   "id": "0adf7ace-abc6-4a46-aff8-2a9455e5b82e",
   "metadata": {
    "tags": []
   },
   "outputs": [],
   "source": [
    "#$\\mu$ is dipole matrix element. This is set to e*1.3nm in the paper\n",
    "mu = 1.60217663e-19*1.3e-9\n",
    "#Lc is the total length of the 1d photonic lattice\n",
    "Lc = 1.2e-4\n",
    "#Lr is the total length of the system including the vaccum part.\n",
    "Lr = 0.012/10\n",
    "#Np is the number of periods of the photonic lattices.\n",
    "Np = 12\n",
    "#lp is the length of one period.\n",
    "lp = Lc/Np"
   ]
  },
  {
   "cell_type": "markdown",
   "id": "6a171431-0135-46d9-b4ba-e1a35af4b247",
   "metadata": {},
   "source": [
    "Define some parameters related to mpmath accuray and matplotlib font size"
   ]
  },
  {
   "cell_type": "code",
   "execution_count": 5,
   "id": "6fbc91d6-4e04-4359-be3b-77848a5eaca7",
   "metadata": {
    "tags": []
   },
   "outputs": [],
   "source": [
    "mpmath.mp.dps = 15\n",
    "plt.rcParams.update({'font.size': 15})"
   ]
  },
  {
   "cell_type": "markdown",
   "id": "b1e7e525-8e85-45af-ae46-f32a77aca968",
   "metadata": {},
   "source": [
    "To solve the eigenmodes, we define a function of the wavevector that using the transfer matrix method to construct the boundary condition."
   ]
  },
  {
   "cell_type": "code",
   "execution_count": 6,
   "id": "c624fc76-9d2b-42f7-90ff-d060a1e37623",
   "metadata": {
    "tags": []
   },
   "outputs": [],
   "source": [
    "def abNkl(kl, Lam, Np):\n",
    "    eta = Lam*kl\n",
    "    M = np.matrix([[(1+1j/2*eta)*np.exp(1j*kl),1j/2*eta*np.exp(1j*kl)],[-1j/2*eta*np.exp(-1j*kl),(1-1j/2*eta)*np.exp(-1j*kl)]])\n",
    "    FM = np.linalg.matrix_power(M,Np-1)\n",
    "    u1 = np.matrix([[1/(2j)*np.exp(1j*kl)],[-1/(2j)*np.exp(-1j*kl)]])\n",
    "    abNm = np.dot(FM,u1)\n",
    "    alp = abNm.item(0)\n",
    "    beta = abNm.item(1)\n",
    "    fbc = ((1+1j/2*eta)*alp + 1j/2*eta*beta)*np.exp(1j*kl*(L-Np)) + (-1j/2*eta*alp + (1-1j/2*eta)*beta)*np.exp(1j*kl*(Np-L))\n",
    "    return np.real(fbc)"
   ]
  },
  {
   "cell_type": "markdown",
   "id": "c5aabfc0-4849-44f7-8c35-ddb15d3568ba",
   "metadata": {},
   "source": [
    "In order to compute confinement factor, we define two functions to construct the eigenmode function given the wave vector. At first, we use 'u_coef_g' to generate the coefficients of the function and then input the coefficient list, position and wave vector to 'unklf' to output the value of the eigenmode function."
   ]
  },
  {
   "cell_type": "code",
   "execution_count": 7,
   "id": "8a3c048f-28fb-4738-941e-15ceedb31b2f",
   "metadata": {
    "tags": []
   },
   "outputs": [],
   "source": [
    "def u_coef_g(kl, Np):\n",
    "    z = np.exp(1j*kl)\n",
    "    eta = Lam*kl\n",
    "    u_coef = np.zeros((Np+1,2), dtype=np.cdouble)\n",
    "    u_coef[0,0] = -1j/2; u_coef[0,1] = 1j/2\n",
    "    M = np.matrix([[(1+1j/2*eta)*z,1j/2*eta*z],[-1j/2*eta/z,(1-1j/2*eta)/z]])\n",
    "    u1 = np.matrix([[1/(2j)*z],[-1/(2j)/z]])\n",
    "    for i in range(1,Np+1):\n",
    "        Mp = np.dot(np.linalg.matrix_power(M,i),u1)\n",
    "        u_coef[i,0] = Mp[0]*z**(-Np); u_coef[i,1] = Mp[1]*z**(Np)\n",
    "    return u_coef"
   ]
  },
  {
   "cell_type": "code",
   "execution_count": 8,
   "id": "7c5557ee-6f61-418b-a019-d1e2a1c1f456",
   "metadata": {
    "tags": []
   },
   "outputs": [],
   "source": [
    "def unklf(kl, ucoef_d, zv):\n",
    "    n = np.int_(zv) + 1\n",
    "    if n > Np:\n",
    "        n = Np + 1\n",
    "    u_coef_l = ucoef_d[kl]\n",
    "    u_coef = u_coef_l[n-1]\n",
    "    zvnp = np.float64(zv)\n",
    "    return u_coef[0]*np.exp(1j*kl*zvnp) + u_coef[1]*np.exp(-1j*kl*zvnp)"
   ]
  },
  {
   "cell_type": "markdown",
   "id": "f5704871-7b57-4059-b848-43e47e8852f0",
   "metadata": {},
   "source": [
    "We define the following function to normalize the $\\Gamma_k$ value."
   ]
  },
  {
   "cell_type": "code",
   "execution_count": 9,
   "id": "e58e1121-48c7-405f-b4c9-65b1b5dc6874",
   "metadata": {
    "tags": []
   },
   "outputs": [],
   "source": [
    "def normal(Tp, ksl, e_int, u_coef_d):    \n",
    "    if len(ksl) == len(e_int):\n",
    "        Gamma_k = []\n",
    "        for i in range(len(ksl)):\n",
    "            if Tp == 1:\n",
    "                A = e_int[i][0] + e_int[i][1]\n",
    "            else:\n",
    "                sum = 0\n",
    "                for z in range(Np):\n",
    "                    sum += np.abs(unklf(ksl[i], u_coef_d, z+1))**2\n",
    "                A = e_int[i][0] + e_int[i][1] + Lam*sum\n",
    "            Gamma_k.append(e_int[i]/A)\n",
    "    else:\n",
    "        print(\"error!\")\n",
    "    return np.array(Gamma_k)"
   ]
  },
  {
   "cell_type": "markdown",
   "id": "472f1509-051d-46df-821c-1779642f3144",
   "metadata": {
    "jp-MarkdownHeadingCollapsed": true,
    "tags": []
   },
   "source": [
    "## Compute Eigenmodes"
   ]
  },
  {
   "cell_type": "markdown",
   "id": "0d9654e4-2bee-432b-b29f-75c13be61705",
   "metadata": {},
   "source": [
    "Define some constants and parameters. Tp is the effective transmission coefficient. The low_kb and high_kb define the range of $k l_p$ we will consider, kbar/$l_p$ is the average wave vector of all the modes we considered. Np is the number of the delta points in the Photonic lattices. L is the dimensionless total length of whole 1d space (scaled by lp=the length of one period of the photonic lattice). "
   ]
  },
  {
   "cell_type": "code",
   "execution_count": 10,
   "id": "734d6492-fffc-417b-8b25-2b888a6d251c",
   "metadata": {
    "tags": []
   },
   "outputs": [],
   "source": [
    "Tp=0.01\n",
    "low_kb = 0\n",
    "high_kb = 6*np.pi\n",
    "eta_eff = 2*np.sqrt((1-Tp)/Tp)\n",
    "kbar = (low_kb + high_kb)/2\n",
    "Lam = eta_eff/kbar\n",
    "Np = 12\n",
    "L=Np*100"
   ]
  },
  {
   "cell_type": "markdown",
   "id": "7ca5e929-f206-4597-add0-441a7f18eba6",
   "metadata": {},
   "source": [
    "To solve the eigenmodes, we make a list of initial guesses and use optimize.root to find the root of the boundary condition output of abNkl. And, we only add the mode to the list if it is not the same with any of the modes in the list. For L=1200, the mode separation is $\\pi$/1200~0.0026, so we need to have the separation of the initial guess smaller than this value."
   ]
  },
  {
   "cell_type": "code",
   "execution_count": 11,
   "id": "b98cd66a-2af2-4c22-9692-fbd3102ca491",
   "metadata": {
    "tags": []
   },
   "outputs": [
    {
     "data": {
      "text/plain": [
       "7200"
      ]
     },
     "execution_count": 11,
     "metadata": {},
     "output_type": "execute_result"
    }
   ],
   "source": [
    "kl = np.linspace(low_kb,high_kb,100000)\n",
    "ks = []\n",
    "tol = 1e-12\n",
    "for i, k in enumerate(kl):\n",
    "    if i < (len(kl)-1):\n",
    "        knext = kl[i+1]\n",
    "        if abNkl(k,Lam, Np)*abNkl(knext,Lam, Np) < 0:\n",
    "            ksol = optimize.root_scalar(lambda k: abNkl(k, Lam, Np), bracket=[k, knext], xtol=1e-14, method='brenth')\n",
    "            if ksol.flag == 'converged':\n",
    "                ks.append(ksol.root)\n",
    "len(ks)"
   ]
  },
  {
   "cell_type": "markdown",
   "id": "391d0877-525e-4618-94c1-1168a2200653",
   "metadata": {},
   "source": [
    "Generate the dictionary of the mode's $k$ to the corresponding coefficient list by 'u_coef_g'"
   ]
  },
  {
   "cell_type": "code",
   "execution_count": 12,
   "id": "e4c9cee1-1094-40b8-a377-34c020ae5cb5",
   "metadata": {
    "tags": []
   },
   "outputs": [],
   "source": [
    "u_coef_d = {};\n",
    "for kl in ks:\n",
    "    u_coef_d[kl] = u_coef_g(kl, Np)"
   ]
  },
  {
   "cell_type": "markdown",
   "id": "d0700e5a-28e2-40c8-a8ef-e4bad0e5aa84",
   "metadata": {},
   "source": [
    "We generate a list of two integrations (inside and outside of the photonic lattice) of the square of fields for all eigenmodes. This will be used in the next photon number computation. This computation will take a lot of time, so we use a progress bar to keep track of the progress."
   ]
  },
  {
   "cell_type": "code",
   "execution_count": 13,
   "id": "e1a014b4-cb4b-4170-94c0-3500630db9c3",
   "metadata": {
    "tags": []
   },
   "outputs": [
    {
     "data": {
      "application/vnd.jupyter.widget-view+json": {
       "model_id": "7873dc0d90164759828910020f0a206e",
       "version_major": 2,
       "version_minor": 0
      },
      "text/plain": [
       "  0%|          | 0/7200 [00:00<?, ?it/s]"
      ]
     },
     "metadata": {},
     "output_type": "display_data"
    }
   ],
   "source": [
    "emode_int=[]\n",
    "count = 0\n",
    "lks = len(ks)\n",
    "for klv in tqdm(ks):\n",
    "    plv = mpmath.quad(lambda x: np.abs(unklf(klv, u_coef_d, x))**2, [0, Np])\n",
    "    fsv = mpmath.quad(lambda x: np.abs(unklf(klv, u_coef_d, x))**2, [Np, L])\n",
    "    fsv_ep = mpmath.quad(lambda x: np.abs(unklf(klv, u_coef_d, x))**2, [L-Np, L])\n",
    "    plv = np.float64(plv.real)\n",
    "    fsv = np.float64(fsv.real)\n",
    "    fsv_ep = np.float64(fsv_ep.real)\n",
    "    emode_int.append([plv,fsv,fsv_ep])"
   ]
  },
  {
   "cell_type": "code",
   "execution_count": 14,
   "id": "a2028533-4ec0-4086-b0e3-456b96d45437",
   "metadata": {
    "tags": []
   },
   "outputs": [
    {
     "data": {
      "text/plain": [
       "7200"
      ]
     },
     "execution_count": 14,
     "metadata": {},
     "output_type": "execute_result"
    }
   ],
   "source": [
    "len(emode_int)"
   ]
  },
  {
   "cell_type": "markdown",
   "id": "49812579-0563-4b37-9a19-9ba619e46c45",
   "metadata": {
    "tags": []
   },
   "source": [
    "To impose the normalization condition for the field as in the paper: \n",
    "$$\n",
    "\\int_0^L\\,dz\\,\\epsilon(z) u_k^2(z) = \\epsilon_0\\,,\n",
    "$$ \n",
    "we need to have: \n",
    "$$\n",
    "\\int_0^L\\,dz\\,u_k^2(z) ~+~ \\frac{\\eta}{\\bar{k}}\\sum_{i=1}^{N_{pl}}\\,u_k^2(z_i) ~=~ 1\\,.\n",
    "$$ \n",
    "So, we at first compute the above expression using the non-normalized field: \n",
    "$$\n",
    "\\int_0^L\\,dz\\,\\tilde{u}_k^2(z) ~+~ \\frac{\\eta}{\\bar{k}}\\sum_{i=1}^{N_{pl}}\\,\\tilde{u}_k^2(z_i) ~=~ A\\,,\n",
    "$$ \n",
    "Then, we normalized the field like: $u_k(z) = \\frac{1}{\\sqrt{A}}\\,\\tilde{u}_k(z)$. The normalized $\\Gamma_k$ will be: \n",
    "$$\n",
    "\\Gamma_k = \\frac{1}{A}\\,\\int_0^{L_c}\\,d_z\\,\\tilde{u}_k^2(z)\n",
    "$$\n",
    "G_in and G_out are two values recording the renormalized integrations inside and outside of the photonic lattice.\n",
    "We also define G_out_ep as:\n",
    "$$\n",
    "\\Gamma_{k(ep)} = \\frac{1}{A}\\,\\int_{L-L_c}^L\\,d_z\\,\\tilde{u}_k^2(z)\n",
    "$$"
   ]
  },
  {
   "cell_type": "markdown",
   "id": "63770b1e-e43c-42e3-b317-6bf0b2fc0ed5",
   "metadata": {},
   "source": [
    "Use the function \"normal\" defined previously to normalized the $\\Gamma$-array in emode_int."
   ]
  },
  {
   "cell_type": "code",
   "execution_count": 15,
   "id": "3faa5574-84a0-4fd0-8278-f8fa6c09d1a5",
   "metadata": {
    "tags": []
   },
   "outputs": [],
   "source": [
    "emode_int = np.array(emode_int)\n",
    "Gamma_k = normal(Tp,ks, emode_int, u_coef_d)\n",
    "G_in = Gamma_k[...,0]\n",
    "G_out = Gamma_k[...,1]\n",
    "G_out_ep = Gamma_k[...,2]"
   ]
  },
  {
   "cell_type": "markdown",
   "id": "d46ff1e6-6203-4d32-9673-a09a80084cdc",
   "metadata": {},
   "source": [
    "We save the data generated into a file."
   ]
  },
  {
   "cell_type": "code",
   "execution_count": 271,
   "id": "2a9619ba-2994-4a43-ad34-3e427e617da0",
   "metadata": {},
   "outputs": [
    {
     "name": "stdout",
     "output_type": "stream",
     "text": [
      "save Tp = 0.01 data\n"
     ]
    }
   ],
   "source": [
    "if Tp == 1:\n",
    "    np.savez_compressed(\"Emodes_0_6pi_Tp1_L10_v1\", ks = ks, G_in = G_in, G_out = G_out, G_out_ep = G_out_ep, emode_int = emode_int)\n",
    "    print('save Tp = 1 data')\n",
    "elif Tp == 0.1:\n",
    "    np.savez_compressed(\"Emodes_0_6pi_Tp01_L10_v1\", ks = ks, G_in = G_in, G_out = G_out, G_out_ep = G_out_ep, emode_int = emode_int)\n",
    "    print('save Tp = 0.1 data')\n",
    "elif Tp == 0.4:\n",
    "    np.savez_compressed(\"Emodes_0_6pi_Tp04_L10_v1\", ks = ks, G_in = G_in, G_out = G_out, G_out_ep = G_out_ep, emode_int = emode_int)\n",
    "    print('save Tp = 0.4 data')\n",
    "elif Tp == 0.01:\n",
    "    np.savez_compressed(\"Emodes_0_6pi_Tp001_L10_v1\", ks = ks, G_in = G_in, G_out = G_out, G_out_ep = G_out_ep, emode_int = emode_int)\n",
    "    print('save Tp = 0.01 data')\n",
    "else:\n",
    "    np.savez_compressed(\"Emodes_0_6pi_miscs_L10_v1\", ks = ks, G_in = G_in, G_out = G_out, G_out_ep = G_out_ep, emode_int = emode_int)\n",
    "    print('save Tp = miscs data')"
   ]
  },
  {
   "cell_type": "markdown",
   "id": "be02a779-9e5b-472f-ba5a-8445fc5430ca",
   "metadata": {
    "jp-MarkdownHeadingCollapsed": true,
    "tags": []
   },
   "source": [
    "### Generate $(\\Omega L_p/c)$-$T_p$ graph"
   ]
  },
  {
   "cell_type": "markdown",
   "id": "c60fcba1-4ab5-4a48-9e92-b1e0c4aa8517",
   "metadata": {},
   "source": [
    "This following function compute the percentage of the energy confined in the photonic lattice."
   ]
  },
  {
   "cell_type": "code",
   "execution_count": 11,
   "id": "bf722845-e279-4a0b-b5ba-22ddd7479cda",
   "metadata": {},
   "outputs": [],
   "source": [
    "def energy_ratio(klv):\n",
    "    plv = integrate.quad(lambda x: np.abs(unklf(klv,x))**2, 0, Np,limit=1000)[0]\n",
    "    fsv = integrate.quad(lambda x: np.abs(unklf(klv,x))**2, Np, L, limit=1000)[0]\n",
    "    return plv/(plv+fsv)"
   ]
  },
  {
   "cell_type": "markdown",
   "id": "2e5baae4-f39f-4632-be9c-b8fc2bbaaac0",
   "metadata": {},
   "source": [
    "We scan the energy ratio for some range of eigenmodes."
   ]
  },
  {
   "cell_type": "code",
   "execution_count": 12,
   "id": "5a95c7d8-9185-45f9-acad-af19f98d09a8",
   "metadata": {},
   "outputs": [
    {
     "name": "stdout",
     "output_type": "stream",
     "text": [
      "100 modes: 1.848169 598.055892\n",
      "101 modes: 1.836255 609.046349\n",
      "102 modes: 1.823082 616.722674\n",
      "103 modes: 1.808866 620.956528\n",
      "104 modes: 1.793838 621.673503\n",
      "105 modes: 1.778233 618.854577\n",
      "106 modes: 1.746260 602.812428\n",
      "107 modes: 1.730373 589.828796\n",
      "108 modes: 1.714864 573.785128\n",
      "109 modes: 1.699958 554.930122\n",
      "110 modes: 1.685866 533.558060\n",
      "111 modes: 1.672785 510.004254\n",
      "112 modes: 1.660893 484.639788\n",
      "113 modes: 1.650348 457.865613\n",
      "114 modes: 1.641288 430.106090\n",
      "115 modes: 1.633825 401.802064\n",
      "116 modes: 1.628046 373.403560\n",
      "117 modes: 1.624013 345.362215\n",
      "118 modes: 1.872439 592.630781\n",
      "119 modes: 1.621761 318.123551\n"
     ]
    }
   ],
   "source": [
    "for k in range(100,120):\n",
    "    plv = integrate.quad(lambda x: np.abs(unklf(ks[k],x))**2, 0, Np,limit=1000)[0]\n",
    "    fsv = integrate.quad(lambda x: np.abs(unklf(ks[k],x))**2, Np, L, limit=1000)[0]\n",
    "    print(\"%d modes: %f %f\" % (k,plv, fsv))"
   ]
  },
  {
   "cell_type": "code",
   "execution_count": 26,
   "id": "de5d1a73-c418-464d-aa92-5af32fee255d",
   "metadata": {},
   "outputs": [
    {
     "data": {
      "text/plain": [
       "6003"
      ]
     },
     "execution_count": 26,
     "metadata": {},
     "output_type": "execute_result"
    }
   ],
   "source": [
    "len(emode_int)"
   ]
  },
  {
   "cell_type": "code",
   "execution_count": 17,
   "id": "d58d8cfe-ab5c-408a-a89b-50b7ca5d6d06",
   "metadata": {},
   "outputs": [],
   "source": [
    "crit = 0.1\n",
    "pl_modes=[]\n",
    "for i in range(len(ks)):\n",
    "    ratio = emode_int[i][0]/(emode_int[i][0]+emode_int[i][1])\n",
    "    if ratio > crit:\n",
    "        pl_modes.append([Tp,ks[i]])"
   ]
  },
  {
   "cell_type": "code",
   "execution_count": 18,
   "id": "682da1fb-eaf8-491f-ba02-7ca949aa6338",
   "metadata": {},
   "outputs": [
    {
     "data": {
      "image/png": "[encoded data removed]",
      "text/plain": [
       "<Figure size 432x648 with 1 Axes>"
      ]
     },
     "metadata": {
      "needs_background": "light"
     },
     "output_type": "display_data"
    }
   ],
   "source": [
    "pTpl=np.transpose(pl_modes)\n",
    "plt.figure(figsize=(6,9))\n",
    "plt.xscale(\"log\")\n",
    "plt.xlim(1e-4,1)\n",
    "plt.xlabel(r\"$T_{pl}$\")\n",
    "plt.ylabel(r\"$kL_{pl}$\")\n",
    "plt.scatter(pTpl[0],pTpl[1])\n",
    "plt.plot([np.pi,np.pi])\n",
    "plt.plot([2*np.pi,2*np.pi])\n",
    "plt.plot([3*np.pi,3*np.pi])\n",
    "plt.plot([4*np.pi,4*np.pi])\n",
    "plt.plot([5*np.pi,5*np.pi])\n",
    "plt.savefig(\"Efreq_Tp1_0_5pi_.png\",dpi=100)"
   ]
  }
 ],
 "metadata": {
  "kernelspec": {
   "display_name": "Python 3 (ipykernel)",
   "language": "python",
   "name": "python3"
  },
  "language_info": {
   "codemirror_mode": {
    "name": "ipython",
    "version": 3
   },
   "file_extension": ".py",
   "mimetype": "text/x-python",
   "name": "python",
   "nbconvert_exporter": "python",
   "pygments_lexer": "ipython3",
   "version": "3.11.5"
  }
 },
 "nbformat": 4,
 "nbformat_minor": 5
}
